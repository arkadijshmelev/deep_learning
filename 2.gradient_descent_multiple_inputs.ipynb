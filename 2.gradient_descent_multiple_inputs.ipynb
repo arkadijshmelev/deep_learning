{
 "cells": [
  {
   "cell_type": "code",
   "execution_count": 318,
   "metadata": {},
   "outputs": [],
   "source": [
    "import numpy as np"
   ]
  },
  {
   "cell_type": "markdown",
   "metadata": {},
   "source": [
    "Чистая сеть с несколькими выходами"
   ]
  },
  {
   "cell_type": "code",
   "execution_count": 319,
   "metadata": {},
   "outputs": [],
   "source": [
    "def w_sum(a, b):\n",
    "    \n",
    "    assert(len(a) == len(b))\n",
    "    \n",
    "    output = 0\n",
    "    \n",
    "    for i in range(len(a)):\n",
    "        output += (a[i] * b[i])\n",
    "        \n",
    "    return output\n",
    "        "
   ]
  },
  {
   "cell_type": "code",
   "execution_count": 320,
   "metadata": {},
   "outputs": [],
   "source": [
    "weights = [0.1, 0.2, -.1]"
   ]
  },
  {
   "cell_type": "code",
   "execution_count": 321,
   "metadata": {},
   "outputs": [],
   "source": [
    "def neural_network(input, weights):\n",
    "    \n",
    "    pred = w_sum(input, weights)\n",
    "    \n",
    "    return pred"
   ]
  },
  {
   "cell_type": "markdown",
   "metadata": {},
   "source": [
    "Получение прогноза, вычисление ошибки и разности"
   ]
  },
  {
   "cell_type": "code",
   "execution_count": 322,
   "metadata": {},
   "outputs": [],
   "source": [
    "toes = [8.5, 9.5, 9.9, 9.0]\n",
    "wlrec = [0.65, 0.8, 0.8, 0.9]\n",
    "nfans = [1.2, 1.3, 0.5, 1.0]\n",
    "\n",
    "win_or_lose_binary = [1, 1, 0, 1]\n",
    "\n",
    "true = win_or_lose_binary[0]\n",
    "input = [toes[0], wlrec[0], nfans[0]]\n",
    "\n",
    "pred = neural_network(input, weights)\n",
    "\n",
    "error = (pred - true) ** 2\n",
    "\n",
    "delta = pred - true"
   ]
  },
  {
   "cell_type": "code",
   "execution_count": 323,
   "metadata": {},
   "outputs": [
    {
     "name": "stdout",
     "output_type": "stream",
     "text": [
      "0.86\n",
      "0.0196\n",
      "-0.14\n"
     ]
    }
   ],
   "source": [
    "print(np.round(pred, 4))\n",
    "print(np.round(error, 4))\n",
    "print(np.round(delta, 4))"
   ]
  },
  {
   "cell_type": "markdown",
   "metadata": {},
   "source": [
    "Вычисление всех операций и добавление их в каждый вес"
   ]
  },
  {
   "cell_type": "code",
   "execution_count": 324,
   "metadata": {},
   "outputs": [],
   "source": [
    "def ele_mul(number, vector):\n",
    "    \n",
    "    output = [0, 0, 0]\n",
    "    \n",
    "    assert(len(output) == len(vector))\n",
    "    \n",
    "    for i in range(len(vector)):\n",
    "        output[i] = number * vector[i]\n",
    "        \n",
    "    return output"
   ]
  },
  {
   "cell_type": "code",
   "execution_count": 325,
   "metadata": {},
   "outputs": [],
   "source": [
    "weights_delta = ele_mul(delta, input)"
   ]
  },
  {
   "cell_type": "code",
   "execution_count": 326,
   "metadata": {},
   "outputs": [
    {
     "name": "stdout",
     "output_type": "stream",
     "text": [
      "-1.189999999999999 -0.09099999999999994 -0.16799999999999987\n"
     ]
    }
   ],
   "source": [
    "print(weights_delta[0], weights_delta[1], weights_delta[2])"
   ]
  },
  {
   "cell_type": "markdown",
   "metadata": {},
   "source": [
    "Корректировка весов"
   ]
  },
  {
   "cell_type": "code",
   "execution_count": 327,
   "metadata": {},
   "outputs": [],
   "source": [
    "alpha = 0.01"
   ]
  },
  {
   "cell_type": "code",
   "execution_count": 328,
   "metadata": {},
   "outputs": [
    {
     "name": "stdout",
     "output_type": "stream",
     "text": [
      "Weights :[0.1119, 0.20091, -0.09832]\n",
      "Weights Deltas :[-1.189999999999999, -0.09099999999999994, -0.16799999999999987]\n"
     ]
    }
   ],
   "source": [
    "for i in range(len(weights)):\n",
    "    \n",
    "    weights[i] -= alpha * weights_delta[i]\n",
    "    \n",
    "print('Weights :' + str(weights))\n",
    "print('Weights Deltas :' + str(weights_delta))\n",
    "    \n",
    "    "
   ]
  },
  {
   "cell_type": "markdown",
   "metadata": {},
   "source": [
    "Несколько входов: получение прогноза и вычисление ошибки и разности"
   ]
  },
  {
   "cell_type": "code",
   "execution_count": 329,
   "metadata": {},
   "outputs": [],
   "source": [
    "toes = [8.5, 9.5, 9.9, 9.0]\n",
    "wlrec = [0.65, 0.8, 0.8, 0.9]\n",
    "nfans = [1.2, 1.3, 0.5, 1.0]\n",
    "\n",
    "win_or_lose_binary = [1, 1, 0, 1]\n",
    "\n",
    "true = win_or_lose_binary[0]\n",
    "input = [toes[0], wlrec[0], nfans[0]]\n",
    "\n",
    "pred = neural_network(input, weights)\n",
    "\n",
    "error = (pred - true) ** 2\n",
    "\n",
    "delta = pred - true"
   ]
  },
  {
   "cell_type": "code",
   "execution_count": 330,
   "metadata": {},
   "outputs": [
    {
     "name": "stdout",
     "output_type": "stream",
     "text": [
      "0.9638\n",
      "0.0013\n",
      "-0.0362\n"
     ]
    }
   ],
   "source": [
    "print(np.round(pred, 4))\n",
    "print(np.round(error, 4))\n",
    "print(np.round(delta, 4))"
   ]
  },
  {
   "cell_type": "markdown",
   "metadata": {},
   "source": [
    "Корректеровка весов"
   ]
  },
  {
   "cell_type": "code",
   "execution_count": 331,
   "metadata": {},
   "outputs": [
    {
     "name": "stdout",
     "output_type": "stream",
     "text": [
      "[-0.30806125000000056, -0.023557625000000044, -0.04349100000000008]\n",
      "0.11498061250000001\n",
      "0.20114557625\n",
      "-0.09788509000000001\n"
     ]
    }
   ],
   "source": [
    "toes = [8.5, 9.5, 9.9, 9.0]\n",
    "wlrec = [0.65, 0.8, 0.8, 0.9]\n",
    "nfans = [1.2, 1.3, 0.5, 1.0]\n",
    "\n",
    "input = [toes[0], wlrec[0], nfans[0]]\n",
    "\n",
    "pred = neural_network(input, weights)\n",
    "\n",
    "error =  (pred - true) ** 2\n",
    "delta = pred - true\n",
    "\n",
    "weights_delta = ele_mul(delta, input)\n",
    "print(weights_delta)\n",
    "alpha = 0.01\n",
    "\n",
    "for i in range(len(weights_delta)):\n",
    "    weights[i] -= alpha * weights_delta[i]\n",
    "    print(weights[i])"
   ]
  },
  {
   "cell_type": "markdown",
   "metadata": {},
   "source": [
    "Все вместе"
   ]
  },
  {
   "cell_type": "code",
   "execution_count": 332,
   "metadata": {},
   "outputs": [
    {
     "name": "stdout",
     "output_type": "stream",
     "text": [
      "Iteration : 1\n",
      "Pred : 0.8600000000000001\n",
      "Error : 0.01959999999999997\n",
      "Delta : -0.1399999999999999\n",
      "Weight : [0.1, 0.2, -0.1]\n",
      "Weights_delta :\n",
      "[-1.189999999999999, -0.09099999999999994, -0.16799999999999987]\n",
      "\n",
      "Iteration : 2\n",
      "Pred : 0.9637574999999999\n",
      "Error : 0.0013135188062500048\n",
      "Delta : -0.036242500000000066\n",
      "Weight : [0.1119, 0.20091, -0.09832]\n",
      "Weights_delta :\n",
      "[-0.30806125000000056, -0.023557625000000044, -0.04349100000000008]\n",
      "\n",
      "Iteration : 3\n",
      "Pred : 0.9906177228125002\n",
      "Error : 8.802712522307997e-05\n",
      "Delta : -0.009382277187499843\n",
      "Weight : [0.11498061250000001, 0.20114557625, -0.09788509000000001]\n",
      "Weights_delta :\n",
      "[-0.07974935609374867, -0.006098480171874899, -0.011258732624999811]\n",
      "\n"
     ]
    }
   ],
   "source": [
    "def neural_network(input, weights):\n",
    "    \n",
    "    out = 0\n",
    "    \n",
    "    for i in range(len(input)):\n",
    "        out += (input[i] * weights[i])\n",
    "        \n",
    "    return out\n",
    "\n",
    "def ele_mul(scalar, vector):\n",
    "    \n",
    "    out = [0, 0, 0]\n",
    "    \n",
    "    for i in range(len(vector)):\n",
    "        out[i] = scalar * vector[i]\n",
    "        \n",
    "    return out\n",
    "\n",
    "toes = [8.5, 9.5, 9.9, 9.0]\n",
    "wlrec = [0.65, 0.8, 0.8, 0.9]\n",
    "nfans = [1.2, 1.3, 0.5, 1.0]\n",
    "\n",
    "win_or_lose_binary = [1, 1, 0, 1]\n",
    "true = win_or_lose_binary[0]\n",
    "\n",
    "alpha = 0.01\n",
    "weights = [0.1, 0.2, -.1]\n",
    "input = [toes[0], wlrec[0], nfans[0]]\n",
    "\n",
    "for iter in range(3):\n",
    "    \n",
    "    pred = neural_network(input, weights)\n",
    "    error = (pred - true) ** 2\n",
    "    delta = pred - true\n",
    "    \n",
    "    weights_delta = ele_mul(delta, input)\n",
    "    \n",
    "    print('Iteration : ' + str(iter+1))\n",
    "    print('Pred : ' + str(pred))\n",
    "    print('Error : ' + str(error))\n",
    "    print('Delta : ' + str(delta))\n",
    "    print('Weight : ' + str(weights))\n",
    "    print('Weights_delta :')\n",
    "    print(str(weights_delta))\n",
    "    print()\n",
    "    \n",
    "    for i in range(len(weights)):\n",
    "        weights[i] -= alpha * weights_delta[i]"
   ]
  },
  {
   "cell_type": "markdown",
   "metadata": {},
   "source": [
    "Замораживание одного веса"
   ]
  },
  {
   "cell_type": "code",
   "execution_count": 333,
   "metadata": {},
   "outputs": [
    {
     "name": "stdout",
     "output_type": "stream",
     "text": [
      "Iteration : 1\n",
      "Pred : 0.8600000000000001\n",
      "Error : 0.01959999999999997\n",
      "Delta : -0.1399999999999999\n",
      "Weight : [0.1, 0.2, -0.1]\n",
      "Weights_delta :\n",
      "[0, -0.09099999999999994, -0.16799999999999987]\n",
      "\n",
      "Iteration : 2\n",
      "Pred : 0.9382250000000001\n",
      "Error : 0.003816150624999989\n",
      "Delta : -0.06177499999999991\n",
      "Weight : [0.1, 0.2273, -0.04960000000000005]\n",
      "Weights_delta :\n",
      "[0, -0.040153749999999946, -0.07412999999999989]\n",
      "\n",
      "Iteration : 3\n",
      "Pred : 0.97274178125\n",
      "Error : 0.000743010489422852\n",
      "Delta : -0.027258218750000007\n",
      "Weight : [0.1, 0.239346125, -0.02736100000000008]\n",
      "Weights_delta :\n",
      "[0, -0.017717842187500006, -0.032709862500000006]\n",
      "\n"
     ]
    }
   ],
   "source": [
    "def neural_network(input, weights):\n",
    "    \n",
    "    out = 0\n",
    "    \n",
    "    for i in range(len(input)):\n",
    "        out += (input[i] * weights[i])\n",
    "        \n",
    "    return out\n",
    "\n",
    "def ele_mul(scalar, vector):\n",
    "    \n",
    "    out = [0, 0, 0]\n",
    "    \n",
    "    for i in range(len(vector)):\n",
    "        out[i] = scalar * vector[i]\n",
    "        \n",
    "    return out\n",
    "\n",
    "toes = [8.5, 9.5, 9.9, 9.0]\n",
    "wlrec = [0.65, 0.8, 0.8, 0.9]\n",
    "nfans = [1.2, 1.3, 0.5, 1.0]\n",
    "\n",
    "win_or_lose_binary = [1, 1, 0, 1]\n",
    "true = win_or_lose_binary[0]\n",
    "\n",
    "alpha = 0.3\n",
    "weights = [0.1, 0.2, -.1]\n",
    "input = [toes[0], wlrec[0], nfans[0]]\n",
    "\n",
    "for iter in range(3):\n",
    "    \n",
    "    pred = neural_network(input, weights)\n",
    "    error = (pred - true) ** 2\n",
    "    delta = pred - true\n",
    "    \n",
    "    weights_delta = ele_mul(delta, input)\n",
    "    weights_delta[0] = 0\n",
    "    \n",
    "    print('Iteration : ' + str(iter+1))\n",
    "    print('Pred : ' + str(pred))\n",
    "    print('Error : ' + str(error))\n",
    "    print('Delta : ' + str(delta))\n",
    "    print('Weight : ' + str(weights))\n",
    "    print('Weights_delta :')\n",
    "    print(str(weights_delta))\n",
    "    print()\n",
    "    \n",
    "    for i in range(len(weights)):\n",
    "        weights[i] -= alpha * weights_delta[i]"
   ]
  },
  {
   "cell_type": "markdown",
   "metadata": {},
   "source": [
    "Чистая сеть с несколькими выходами"
   ]
  },
  {
   "cell_type": "code",
   "execution_count": 334,
   "metadata": {},
   "outputs": [],
   "source": [
    "weights = [0.3, 0.2, 0.9]\n",
    "\n",
    "def neural_network(input, weights):\n",
    "    \n",
    "    pred = ele_mul(input, weights)\n",
    "    \n",
    "    return pred"
   ]
  },
  {
   "cell_type": "code",
   "execution_count": 335,
   "metadata": {},
   "outputs": [],
   "source": [
    "wlrec = [0.65, 1.0, 1.0, 0.9]\n",
    "\n",
    "hurt = [0.1, 0.0, 0.0, 0.1]\n",
    "win = [1, 1, 0, 1]\n",
    "sad = [0.1, 0.0, 0.1, 0.2]\n",
    "\n",
    "input = wlrec[0]\n",
    "true = [hurt[0], win[0], sad[0]]\n",
    "\n",
    "pred = neural_network(input, weights)\n",
    "\n",
    "error = [0, 0, 0]\n",
    "delta = [0, 0, 0]\n",
    "\n",
    "for i in range(len(pred)):\n",
    "    \n",
    "    error[i] = (pred[i] - true[i]) ** 2\n",
    "    delta[i] = pred[i] - true[i]"
   ]
  },
  {
   "cell_type": "markdown",
   "metadata": {},
   "source": [
    "Вычисление каждого приращения weight_delta и коррекция каждого веса"
   ]
  },
  {
   "cell_type": "code",
   "execution_count": 336,
   "metadata": {},
   "outputs": [],
   "source": [
    "def scalar_ele_mul(number, vector):\n",
    "    \n",
    "    output = [0, 0, 0]\n",
    "    \n",
    "    assert(len(output) == len(vector))\n",
    "    \n",
    "    for i in range(len(vector)):\n",
    "        output[i] = number * vector[i]\n",
    "        \n",
    "        return output"
   ]
  },
  {
   "cell_type": "code",
   "execution_count": 337,
   "metadata": {},
   "outputs": [],
   "source": [
    "weights_deltas = scalar_ele_mul(input, weights)"
   ]
  },
  {
   "cell_type": "code",
   "execution_count": 338,
   "metadata": {},
   "outputs": [
    {
     "data": {
      "text/plain": [
       "[0, -0.017717842187500006, -0.032709862500000006]"
      ]
     },
     "execution_count": 338,
     "metadata": {},
     "output_type": "execute_result"
    }
   ],
   "source": [
    "weights_delta"
   ]
  },
  {
   "cell_type": "markdown",
   "metadata": {},
   "source": [
    "Корректировка весов"
   ]
  },
  {
   "cell_type": "code",
   "execution_count": 339,
   "metadata": {},
   "outputs": [
    {
     "name": "stdout",
     "output_type": "stream",
     "text": [
      "Weights : [0.3, 0.20177178421875, 0.90327098625]\n",
      "Weight Deltas : [0, -0.017717842187500006, -0.032709862500000006]\n"
     ]
    }
   ],
   "source": [
    "alpha = 0.1\n",
    "\n",
    "for i in range(len(weights)):\n",
    "    \n",
    "    weights[i] -= (alpha * weights_delta[i])\n",
    "    \n",
    "print('Weights : ' + str(weights))\n",
    "print('Weight Deltas : ' + str(weights_delta))"
   ]
  },
  {
   "cell_type": "markdown",
   "metadata": {},
   "source": [
    "Чистая сеть с несколькими входами и выходами"
   ]
  },
  {
   "cell_type": "code",
   "execution_count": 340,
   "metadata": {},
   "outputs": [],
   "source": [
    "weights = [\n",
    "    [0.1, 0.1, -0.3], \n",
    "    [0.1, 0.2, 0.1],\n",
    "    [0.0, 1.3, 0.1]\n",
    "]\n",
    "def w_sum(a, b):\n",
    "    \n",
    "    assert(len(a) == len(b))\n",
    "    \n",
    "    output = 0\n",
    "    \n",
    "    for i in range(len(a)):\n",
    "        output += (a[i] * b[i])\n",
    "        \n",
    "    return output\n",
    "\n",
    "def vec_mat_mul(vect, matrix):\n",
    "    \n",
    "    assert(len(vect) == len(matrix))\n",
    "    \n",
    "    output = [0, 0, 0]\n",
    "    \n",
    "    for i in range(len(vect)):\n",
    "        output[i] = w_sum(vect, matrix[i])\n",
    "        \n",
    "    return output\n",
    "\n",
    "def neural_network(input, weights):\n",
    "    \n",
    "    pred = vec_mat_mul(input, weights)\n",
    "    \n",
    "    return pred"
   ]
  },
  {
   "cell_type": "code",
   "execution_count": 341,
   "metadata": {},
   "outputs": [],
   "source": [
    "toes = [8.5, 9.5, 9.9, 9.0]\n",
    "wlrec = [0.65, 0.8, 0.8, 0.9]\n",
    "nfans = [1.2, 1.3, 0.5, 1.0]\n",
    "\n",
    "hurt = [0.1, 0.0, 0.0, 0.1]\n",
    "win = [1, 1, 0, 1]\n",
    "sad = [0.1, 0.0, 0.1, 0.2]\n",
    "\n",
    "alpha = 0.01\n",
    "\n",
    "input = [toes[0], wlrec[0], nfans[0]]\n",
    "\n",
    "true = [hurt[0], win[0], sad[0]]"
   ]
  },
  {
   "cell_type": "code",
   "execution_count": 342,
   "metadata": {},
   "outputs": [],
   "source": [
    "pred = neural_network(input, weights)\n",
    "\n",
    "error = [0, 0, 0]\n",
    "delta = [0, 0, 0]\n",
    "\n",
    "for i in range(len(delta)):\n",
    "    \n",
    "    error[i] = (pred[i] - true[i]) ** 2\n",
    "    delta[i] = pred[i] - true[i]"
   ]
  },
  {
   "cell_type": "code",
   "execution_count": 343,
   "metadata": {},
   "outputs": [],
   "source": [
    "def outer_prod(vec_a, vec_b):\n",
    "    \n",
    "    out = np.zeros((len(vec_a), len(vec_b)))\n",
    "    \n",
    "    for i in range(len(vec_a)):\n",
    "        for j in range(len(vec_b)):\n",
    "            out[i][j] = vec_a[i] * vec_b[j]\n",
    "    \n",
    "    return out"
   ]
  },
  {
   "cell_type": "code",
   "execution_count": 344,
   "metadata": {},
   "outputs": [],
   "source": [
    "input = [toes[0], wlrec[0], nfans[0]]\n",
    "true = [hurt[0], win[0], sad[0]]"
   ]
  },
  {
   "cell_type": "code",
   "execution_count": 345,
   "metadata": {},
   "outputs": [],
   "source": [
    "pred = neural_network(input, weights)\n",
    "\n",
    "error = [0, 0, 0]\n",
    "delta = [0, 0, 0]\n",
    "\n",
    "for i in range(len(true)):\n",
    "    \n",
    "    error[i] = (pred[i] - true[i]) ** 2\n",
    "    delta[i] = pred[i] - true[i]"
   ]
  },
  {
   "cell_type": "code",
   "execution_count": 346,
   "metadata": {},
   "outputs": [
    {
     "data": {
      "text/plain": [
       "array([8.5 , 0.65, 1.2 ])"
      ]
     },
     "execution_count": 346,
     "metadata": {},
     "output_type": "execute_result"
    }
   ],
   "source": [
    "a = np.array(input)\n",
    "a"
   ]
  },
  {
   "cell_type": "code",
   "execution_count": 347,
   "metadata": {},
   "outputs": [
    {
     "data": {
      "text/plain": [
       "array([0.455, 0.1  , 0.865])"
      ]
     },
     "execution_count": 347,
     "metadata": {},
     "output_type": "execute_result"
    }
   ],
   "source": [
    "b = np.array(delta)\n",
    "b"
   ]
  },
  {
   "cell_type": "code",
   "execution_count": 348,
   "metadata": {},
   "outputs": [
    {
     "data": {
      "text/plain": [
       "array([[3.8675 , 0.85   , 7.3525 ],\n",
       "       [0.29575, 0.065  , 0.56225],\n",
       "       [0.546  , 0.12   , 1.038  ]])"
      ]
     },
     "execution_count": 348,
     "metadata": {},
     "output_type": "execute_result"
    }
   ],
   "source": [
    "np.outer(a, b)"
   ]
  },
  {
   "cell_type": "code",
   "execution_count": 561,
   "metadata": {},
   "outputs": [
    {
     "data": {
      "text/plain": [
       "array([[3.8675 , 0.85   , 7.3525 ],\n",
       "       [0.29575, 0.065  , 0.56225],\n",
       "       [0.546  , 0.12   , 1.038  ]])"
      ]
     },
     "execution_count": 561,
     "metadata": {},
     "output_type": "execute_result"
    }
   ],
   "source": [
    "weights_delta = outer_prod(input, delta)\n",
    "weights_delta"
   ]
  }
 ],
 "metadata": {
  "kernelspec": {
   "display_name": "Python 3",
   "language": "python",
   "name": "python3"
  },
  "language_info": {
   "codemirror_mode": {
    "name": "ipython",
    "version": 3
   },
   "file_extension": ".py",
   "mimetype": "text/x-python",
   "name": "python",
   "nbconvert_exporter": "python",
   "pygments_lexer": "ipython3",
   "version": "3.12.3"
  }
 },
 "nbformat": 4,
 "nbformat_minor": 2
}
