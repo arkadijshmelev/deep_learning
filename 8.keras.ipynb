{
 "cells": [
  {
   "cell_type": "markdown",
   "metadata": {},
   "source": [
    "## Библиотеки"
   ]
  },
  {
   "cell_type": "code",
   "execution_count": 91,
   "metadata": {},
   "outputs": [],
   "source": [
    "import csv\n",
    "import numpy as np\n",
    "import pandas as pd\n",
    "from sklearn import (model_selection,\n",
    "                     preprocessing)\n",
    "import keras"
   ]
  },
  {
   "cell_type": "code",
   "execution_count": 92,
   "metadata": {},
   "outputs": [],
   "source": [
    "fname = \"data/creditcard.csv\""
   ]
  },
  {
   "cell_type": "code",
   "execution_count": 93,
   "metadata": {},
   "outputs": [
    {
     "data": {
      "text/html": [
       "<div>\n",
       "<style scoped>\n",
       "    .dataframe tbody tr th:only-of-type {\n",
       "        vertical-align: middle;\n",
       "    }\n",
       "\n",
       "    .dataframe tbody tr th {\n",
       "        vertical-align: top;\n",
       "    }\n",
       "\n",
       "    .dataframe thead th {\n",
       "        text-align: right;\n",
       "    }\n",
       "</style>\n",
       "<table border=\"1\" class=\"dataframe\">\n",
       "  <thead>\n",
       "    <tr style=\"text-align: right;\">\n",
       "      <th></th>\n",
       "      <th>Time</th>\n",
       "      <th>V1</th>\n",
       "      <th>V2</th>\n",
       "      <th>V3</th>\n",
       "      <th>V4</th>\n",
       "      <th>V5</th>\n",
       "      <th>V6</th>\n",
       "      <th>V7</th>\n",
       "      <th>V8</th>\n",
       "      <th>V9</th>\n",
       "      <th>...</th>\n",
       "      <th>V21</th>\n",
       "      <th>V22</th>\n",
       "      <th>V23</th>\n",
       "      <th>V24</th>\n",
       "      <th>V25</th>\n",
       "      <th>V26</th>\n",
       "      <th>V27</th>\n",
       "      <th>V28</th>\n",
       "      <th>Amount</th>\n",
       "      <th>Class</th>\n",
       "    </tr>\n",
       "  </thead>\n",
       "  <tbody>\n",
       "    <tr>\n",
       "      <th>0</th>\n",
       "      <td>0.0</td>\n",
       "      <td>-1.359807</td>\n",
       "      <td>-0.072781</td>\n",
       "      <td>2.536347</td>\n",
       "      <td>1.378155</td>\n",
       "      <td>-0.338321</td>\n",
       "      <td>0.462388</td>\n",
       "      <td>0.239599</td>\n",
       "      <td>0.098698</td>\n",
       "      <td>0.363787</td>\n",
       "      <td>...</td>\n",
       "      <td>-0.018307</td>\n",
       "      <td>0.277838</td>\n",
       "      <td>-0.110474</td>\n",
       "      <td>0.066928</td>\n",
       "      <td>0.128539</td>\n",
       "      <td>-0.189115</td>\n",
       "      <td>0.133558</td>\n",
       "      <td>-0.021053</td>\n",
       "      <td>149.62</td>\n",
       "      <td>0</td>\n",
       "    </tr>\n",
       "    <tr>\n",
       "      <th>1</th>\n",
       "      <td>0.0</td>\n",
       "      <td>1.191857</td>\n",
       "      <td>0.266151</td>\n",
       "      <td>0.166480</td>\n",
       "      <td>0.448154</td>\n",
       "      <td>0.060018</td>\n",
       "      <td>-0.082361</td>\n",
       "      <td>-0.078803</td>\n",
       "      <td>0.085102</td>\n",
       "      <td>-0.255425</td>\n",
       "      <td>...</td>\n",
       "      <td>-0.225775</td>\n",
       "      <td>-0.638672</td>\n",
       "      <td>0.101288</td>\n",
       "      <td>-0.339846</td>\n",
       "      <td>0.167170</td>\n",
       "      <td>0.125895</td>\n",
       "      <td>-0.008983</td>\n",
       "      <td>0.014724</td>\n",
       "      <td>2.69</td>\n",
       "      <td>0</td>\n",
       "    </tr>\n",
       "    <tr>\n",
       "      <th>2</th>\n",
       "      <td>1.0</td>\n",
       "      <td>-1.358354</td>\n",
       "      <td>-1.340163</td>\n",
       "      <td>1.773209</td>\n",
       "      <td>0.379780</td>\n",
       "      <td>-0.503198</td>\n",
       "      <td>1.800499</td>\n",
       "      <td>0.791461</td>\n",
       "      <td>0.247676</td>\n",
       "      <td>-1.514654</td>\n",
       "      <td>...</td>\n",
       "      <td>0.247998</td>\n",
       "      <td>0.771679</td>\n",
       "      <td>0.909412</td>\n",
       "      <td>-0.689281</td>\n",
       "      <td>-0.327642</td>\n",
       "      <td>-0.139097</td>\n",
       "      <td>-0.055353</td>\n",
       "      <td>-0.059752</td>\n",
       "      <td>378.66</td>\n",
       "      <td>0</td>\n",
       "    </tr>\n",
       "    <tr>\n",
       "      <th>3</th>\n",
       "      <td>1.0</td>\n",
       "      <td>-0.966272</td>\n",
       "      <td>-0.185226</td>\n",
       "      <td>1.792993</td>\n",
       "      <td>-0.863291</td>\n",
       "      <td>-0.010309</td>\n",
       "      <td>1.247203</td>\n",
       "      <td>0.237609</td>\n",
       "      <td>0.377436</td>\n",
       "      <td>-1.387024</td>\n",
       "      <td>...</td>\n",
       "      <td>-0.108300</td>\n",
       "      <td>0.005274</td>\n",
       "      <td>-0.190321</td>\n",
       "      <td>-1.175575</td>\n",
       "      <td>0.647376</td>\n",
       "      <td>-0.221929</td>\n",
       "      <td>0.062723</td>\n",
       "      <td>0.061458</td>\n",
       "      <td>123.50</td>\n",
       "      <td>0</td>\n",
       "    </tr>\n",
       "    <tr>\n",
       "      <th>4</th>\n",
       "      <td>2.0</td>\n",
       "      <td>-1.158233</td>\n",
       "      <td>0.877737</td>\n",
       "      <td>1.548718</td>\n",
       "      <td>0.403034</td>\n",
       "      <td>-0.407193</td>\n",
       "      <td>0.095921</td>\n",
       "      <td>0.592941</td>\n",
       "      <td>-0.270533</td>\n",
       "      <td>0.817739</td>\n",
       "      <td>...</td>\n",
       "      <td>-0.009431</td>\n",
       "      <td>0.798278</td>\n",
       "      <td>-0.137458</td>\n",
       "      <td>0.141267</td>\n",
       "      <td>-0.206010</td>\n",
       "      <td>0.502292</td>\n",
       "      <td>0.219422</td>\n",
       "      <td>0.215153</td>\n",
       "      <td>69.99</td>\n",
       "      <td>0</td>\n",
       "    </tr>\n",
       "  </tbody>\n",
       "</table>\n",
       "<p>5 rows × 31 columns</p>\n",
       "</div>"
      ],
      "text/plain": [
       "   Time        V1        V2        V3        V4        V5        V6        V7  \\\n",
       "0   0.0 -1.359807 -0.072781  2.536347  1.378155 -0.338321  0.462388  0.239599   \n",
       "1   0.0  1.191857  0.266151  0.166480  0.448154  0.060018 -0.082361 -0.078803   \n",
       "2   1.0 -1.358354 -1.340163  1.773209  0.379780 -0.503198  1.800499  0.791461   \n",
       "3   1.0 -0.966272 -0.185226  1.792993 -0.863291 -0.010309  1.247203  0.237609   \n",
       "4   2.0 -1.158233  0.877737  1.548718  0.403034 -0.407193  0.095921  0.592941   \n",
       "\n",
       "         V8        V9  ...       V21       V22       V23       V24       V25  \\\n",
       "0  0.098698  0.363787  ... -0.018307  0.277838 -0.110474  0.066928  0.128539   \n",
       "1  0.085102 -0.255425  ... -0.225775 -0.638672  0.101288 -0.339846  0.167170   \n",
       "2  0.247676 -1.514654  ...  0.247998  0.771679  0.909412 -0.689281 -0.327642   \n",
       "3  0.377436 -1.387024  ... -0.108300  0.005274 -0.190321 -1.175575  0.647376   \n",
       "4 -0.270533  0.817739  ... -0.009431  0.798278 -0.137458  0.141267 -0.206010   \n",
       "\n",
       "        V26       V27       V28  Amount  Class  \n",
       "0 -0.189115  0.133558 -0.021053  149.62      0  \n",
       "1  0.125895 -0.008983  0.014724    2.69      0  \n",
       "2 -0.139097 -0.055353 -0.059752  378.66      0  \n",
       "3 -0.221929  0.062723  0.061458  123.50      0  \n",
       "4  0.502292  0.219422  0.215153   69.99      0  \n",
       "\n",
       "[5 rows x 31 columns]"
      ]
     },
     "metadata": {},
     "output_type": "display_data"
    },
    {
     "name": "stdout",
     "output_type": "stream",
     "text": [
      "(284807, 31)\n"
     ]
    }
   ],
   "source": [
    "df = pd.read_csv(fname)\n",
    "display(df.head())\n",
    "print(df.shape)"
   ]
  },
  {
   "cell_type": "markdown",
   "metadata": {},
   "source": [
    "## Keras"
   ]
  },
  {
   "cell_type": "code",
   "execution_count": 94,
   "metadata": {},
   "outputs": [
    {
     "name": "stdout",
     "output_type": "stream",
     "text": [
      "HEADER: \"Time\",\"V1\",\"V2\",\"V3\",\"V4\",\"V5\",\"V6\",\"V7\",\"V8\",\"V9\",\"V10\",\"V11\",\"V12\",\"V13\",\"V14\",\"V15\",\"V16\",\"V17\",\"V18\",\"V19\",\"V20\",\"V21\",\"V22\",\"V23\",\"V24\",\"V25\",\"V26\",\"V27\",\"V28\",\"Amount\",\"Class\"\n",
      "EXAMPLE FEATURES: [0.0, -1.3598071336738, -0.0727811733098497, 2.53634673796914, 1.37815522427443, -0.338320769942518, 0.462387777762292, 0.239598554061257, 0.0986979012610507, 0.363786969611213, 0.0907941719789316, -0.551599533260813, -0.617800855762348, -0.991389847235408, -0.311169353699879, 1.46817697209427, -0.470400525259478, 0.207971241929242, 0.0257905801985591, 0.403992960255733, 0.251412098239705, -0.018306777944153, 0.277837575558899, -0.110473910188767, 0.0669280749146731, 0.128539358273528, -0.189114843888824, 0.133558376740387, -0.0210530534538215, 149.62]\n",
      "features.shape: (284807, 30)\n",
      "targets.shape: (284807, 1)\n"
     ]
    }
   ],
   "source": [
    "all_features = []\n",
    "all_targets = []\n",
    "with open(fname) as f:\n",
    "    for i, line in enumerate(f):\n",
    "        if i == 0:\n",
    "            print(\"HEADER:\", line.strip())\n",
    "            continue \n",
    "        fields = line.strip().split(\",\")\n",
    "        all_features.append([float(v.replace('\"', \"\")) for v in fields[:-1]])\n",
    "        all_targets.append([int(fields[-1].replace('\"', \"\"))])\n",
    "        if i == 1:\n",
    "            print(\"EXAMPLE FEATURES:\", all_features[-1])\n",
    "\n",
    "features = np.array(all_features, dtype=\"float32\")\n",
    "targets = np.array(all_targets, dtype=\"uint8\")\n",
    "print(\"features.shape:\", features.shape)\n",
    "print(\"targets.shape:\", targets.shape)"
   ]
  },
  {
   "cell_type": "code",
   "execution_count": 95,
   "metadata": {},
   "outputs": [
    {
     "name": "stdout",
     "output_type": "stream",
     "text": [
      "Number of training samples: 227846\n",
      "Number of validation samples: 56961\n"
     ]
    }
   ],
   "source": [
    "num_val_samples = int(len(features) * 0.2)\n",
    "train_features = features[:-num_val_samples]\n",
    "train_targets = targets[:-num_val_samples]\n",
    "val_features = features[-num_val_samples:]\n",
    "val_targets = targets[-num_val_samples:]\n",
    "\n",
    "print(\"Number of training samples:\", len(train_features))\n",
    "print(\"Number of validation samples:\", len(val_features))"
   ]
  },
  {
   "cell_type": "code",
   "execution_count": 96,
   "metadata": {},
   "outputs": [
    {
     "name": "stdout",
     "output_type": "stream",
     "text": [
      "Number of positive samples in training data: 417 (0.18% of total)\n",
      "0.0 0.0024\n"
     ]
    }
   ],
   "source": [
    "counts = np.bincount(train_targets[:, 0])\n",
    "print(\n",
    "    \"Number of positive samples in training data: {} ({:.2f}% of total)\".format(\n",
    "        counts[1], 100 * float(counts[1]) / len(train_targets)\n",
    "    )\n",
    ")\n",
    "\n",
    "weight_for_0 = 1.0 / counts[0]\n",
    "weight_for_1 = 1.0 / counts[1]\n",
    "print(np.round(weight_for_0, 5), np.round(weight_for_1, 5))"
   ]
  },
  {
   "cell_type": "code",
   "execution_count": 97,
   "metadata": {},
   "outputs": [],
   "source": [
    "mean = np.mean(train_features, axis=0)\n",
    "train_features -= mean\n",
    "val_features -= mean\n",
    "std = np.std(train_features, axis=0)\n",
    "train_features /= std\n",
    "val_features /= std"
   ]
  },
  {
   "cell_type": "code",
   "execution_count": 98,
   "metadata": {},
   "outputs": [
    {
     "data": {
      "text/html": [
       "<pre style=\"white-space:pre;overflow-x:auto;line-height:normal;font-family:Menlo,'DejaVu Sans Mono',consolas,'Courier New',monospace\"><span style=\"font-weight: bold\">Model: \"sequential_3\"</span>\n",
       "</pre>\n"
      ],
      "text/plain": [
       "\u001b[1mModel: \"sequential_3\"\u001b[0m\n"
      ]
     },
     "metadata": {},
     "output_type": "display_data"
    },
    {
     "data": {
      "text/html": [
       "<pre style=\"white-space:pre;overflow-x:auto;line-height:normal;font-family:Menlo,'DejaVu Sans Mono',consolas,'Courier New',monospace\">┏━━━━━━━━━━━━━━━━━━━━━━━━━━━━━━━━━┳━━━━━━━━━━━━━━━━━━━━━━━━┳━━━━━━━━━━━━━━━┓\n",
       "┃<span style=\"font-weight: bold\"> Layer (type)                    </span>┃<span style=\"font-weight: bold\"> Output Shape           </span>┃<span style=\"font-weight: bold\">       Param # </span>┃\n",
       "┡━━━━━━━━━━━━━━━━━━━━━━━━━━━━━━━━━╇━━━━━━━━━━━━━━━━━━━━━━━━╇━━━━━━━━━━━━━━━┩\n",
       "│ dense_12 (<span style=\"color: #0087ff; text-decoration-color: #0087ff\">Dense</span>)                │ (<span style=\"color: #00d7ff; text-decoration-color: #00d7ff\">None</span>, <span style=\"color: #00af00; text-decoration-color: #00af00\">256</span>)            │         <span style=\"color: #00af00; text-decoration-color: #00af00\">7,936</span> │\n",
       "├─────────────────────────────────┼────────────────────────┼───────────────┤\n",
       "│ dense_13 (<span style=\"color: #0087ff; text-decoration-color: #0087ff\">Dense</span>)                │ (<span style=\"color: #00d7ff; text-decoration-color: #00d7ff\">None</span>, <span style=\"color: #00af00; text-decoration-color: #00af00\">256</span>)            │        <span style=\"color: #00af00; text-decoration-color: #00af00\">65,792</span> │\n",
       "├─────────────────────────────────┼────────────────────────┼───────────────┤\n",
       "│ dropout_6 (<span style=\"color: #0087ff; text-decoration-color: #0087ff\">Dropout</span>)             │ (<span style=\"color: #00d7ff; text-decoration-color: #00d7ff\">None</span>, <span style=\"color: #00af00; text-decoration-color: #00af00\">256</span>)            │             <span style=\"color: #00af00; text-decoration-color: #00af00\">0</span> │\n",
       "├─────────────────────────────────┼────────────────────────┼───────────────┤\n",
       "│ dense_14 (<span style=\"color: #0087ff; text-decoration-color: #0087ff\">Dense</span>)                │ (<span style=\"color: #00d7ff; text-decoration-color: #00d7ff\">None</span>, <span style=\"color: #00af00; text-decoration-color: #00af00\">256</span>)            │        <span style=\"color: #00af00; text-decoration-color: #00af00\">65,792</span> │\n",
       "├─────────────────────────────────┼────────────────────────┼───────────────┤\n",
       "│ dropout_7 (<span style=\"color: #0087ff; text-decoration-color: #0087ff\">Dropout</span>)             │ (<span style=\"color: #00d7ff; text-decoration-color: #00d7ff\">None</span>, <span style=\"color: #00af00; text-decoration-color: #00af00\">256</span>)            │             <span style=\"color: #00af00; text-decoration-color: #00af00\">0</span> │\n",
       "├─────────────────────────────────┼────────────────────────┼───────────────┤\n",
       "│ dense_15 (<span style=\"color: #0087ff; text-decoration-color: #0087ff\">Dense</span>)                │ (<span style=\"color: #00d7ff; text-decoration-color: #00d7ff\">None</span>, <span style=\"color: #00af00; text-decoration-color: #00af00\">1</span>)              │           <span style=\"color: #00af00; text-decoration-color: #00af00\">257</span> │\n",
       "└─────────────────────────────────┴────────────────────────┴───────────────┘\n",
       "</pre>\n"
      ],
      "text/plain": [
       "┏━━━━━━━━━━━━━━━━━━━━━━━━━━━━━━━━━┳━━━━━━━━━━━━━━━━━━━━━━━━┳━━━━━━━━━━━━━━━┓\n",
       "┃\u001b[1m \u001b[0m\u001b[1mLayer (type)                   \u001b[0m\u001b[1m \u001b[0m┃\u001b[1m \u001b[0m\u001b[1mOutput Shape          \u001b[0m\u001b[1m \u001b[0m┃\u001b[1m \u001b[0m\u001b[1m      Param #\u001b[0m\u001b[1m \u001b[0m┃\n",
       "┡━━━━━━━━━━━━━━━━━━━━━━━━━━━━━━━━━╇━━━━━━━━━━━━━━━━━━━━━━━━╇━━━━━━━━━━━━━━━┩\n",
       "│ dense_12 (\u001b[38;5;33mDense\u001b[0m)                │ (\u001b[38;5;45mNone\u001b[0m, \u001b[38;5;34m256\u001b[0m)            │         \u001b[38;5;34m7,936\u001b[0m │\n",
       "├─────────────────────────────────┼────────────────────────┼───────────────┤\n",
       "│ dense_13 (\u001b[38;5;33mDense\u001b[0m)                │ (\u001b[38;5;45mNone\u001b[0m, \u001b[38;5;34m256\u001b[0m)            │        \u001b[38;5;34m65,792\u001b[0m │\n",
       "├─────────────────────────────────┼────────────────────────┼───────────────┤\n",
       "│ dropout_6 (\u001b[38;5;33mDropout\u001b[0m)             │ (\u001b[38;5;45mNone\u001b[0m, \u001b[38;5;34m256\u001b[0m)            │             \u001b[38;5;34m0\u001b[0m │\n",
       "├─────────────────────────────────┼────────────────────────┼───────────────┤\n",
       "│ dense_14 (\u001b[38;5;33mDense\u001b[0m)                │ (\u001b[38;5;45mNone\u001b[0m, \u001b[38;5;34m256\u001b[0m)            │        \u001b[38;5;34m65,792\u001b[0m │\n",
       "├─────────────────────────────────┼────────────────────────┼───────────────┤\n",
       "│ dropout_7 (\u001b[38;5;33mDropout\u001b[0m)             │ (\u001b[38;5;45mNone\u001b[0m, \u001b[38;5;34m256\u001b[0m)            │             \u001b[38;5;34m0\u001b[0m │\n",
       "├─────────────────────────────────┼────────────────────────┼───────────────┤\n",
       "│ dense_15 (\u001b[38;5;33mDense\u001b[0m)                │ (\u001b[38;5;45mNone\u001b[0m, \u001b[38;5;34m1\u001b[0m)              │           \u001b[38;5;34m257\u001b[0m │\n",
       "└─────────────────────────────────┴────────────────────────┴───────────────┘\n"
      ]
     },
     "metadata": {},
     "output_type": "display_data"
    },
    {
     "data": {
      "text/html": [
       "<pre style=\"white-space:pre;overflow-x:auto;line-height:normal;font-family:Menlo,'DejaVu Sans Mono',consolas,'Courier New',monospace\"><span style=\"font-weight: bold\"> Total params: </span><span style=\"color: #00af00; text-decoration-color: #00af00\">139,777</span> (546.00 KB)\n",
       "</pre>\n"
      ],
      "text/plain": [
       "\u001b[1m Total params: \u001b[0m\u001b[38;5;34m139,777\u001b[0m (546.00 KB)\n"
      ]
     },
     "metadata": {},
     "output_type": "display_data"
    },
    {
     "data": {
      "text/html": [
       "<pre style=\"white-space:pre;overflow-x:auto;line-height:normal;font-family:Menlo,'DejaVu Sans Mono',consolas,'Courier New',monospace\"><span style=\"font-weight: bold\"> Trainable params: </span><span style=\"color: #00af00; text-decoration-color: #00af00\">139,777</span> (546.00 KB)\n",
       "</pre>\n"
      ],
      "text/plain": [
       "\u001b[1m Trainable params: \u001b[0m\u001b[38;5;34m139,777\u001b[0m (546.00 KB)\n"
      ]
     },
     "metadata": {},
     "output_type": "display_data"
    },
    {
     "data": {
      "text/html": [
       "<pre style=\"white-space:pre;overflow-x:auto;line-height:normal;font-family:Menlo,'DejaVu Sans Mono',consolas,'Courier New',monospace\"><span style=\"font-weight: bold\"> Non-trainable params: </span><span style=\"color: #00af00; text-decoration-color: #00af00\">0</span> (0.00 B)\n",
       "</pre>\n"
      ],
      "text/plain": [
       "\u001b[1m Non-trainable params: \u001b[0m\u001b[38;5;34m0\u001b[0m (0.00 B)\n"
      ]
     },
     "metadata": {},
     "output_type": "display_data"
    }
   ],
   "source": [
    "model = keras.Sequential(\n",
    "    [\n",
    "        keras.Input(shape=train_features.shape[1:]),\n",
    "        keras.layers.Dense(256, activation=\"relu\"),\n",
    "        keras.layers.Dense(256, activation=\"relu\"),\n",
    "        keras.layers.Dropout(0.3),\n",
    "        keras.layers.Dense(256, activation=\"relu\"),\n",
    "        keras.layers.Dropout(0.3),\n",
    "        keras.layers.Dense(1, activation=\"sigmoid\"),\n",
    "    ]\n",
    ")\n",
    "model.summary()"
   ]
  },
  {
   "cell_type": "code",
   "execution_count": 99,
   "metadata": {},
   "outputs": [
    {
     "name": "stdout",
     "output_type": "stream",
     "text": [
      "Epoch 1/30\n",
      "112/112 - 3s - 26ms/step - fn: 50.0000 - fp: 22040.0000 - loss: 2.3456e-06 - precision: 0.0164 - recall: 0.8801 - tn: 205389.0000 - tp: 367.0000 - val_fn: 5.0000 - val_fp: 3961.0000 - val_loss: 0.2446 - val_precision: 0.0174 - val_recall: 0.9333 - val_tn: 52925.0000 - val_tp: 70.0000\n",
      "Epoch 2/30\n",
      "112/112 - 1s - 13ms/step - fn: 32.0000 - fp: 7623.0000 - loss: 1.4618e-06 - precision: 0.0481 - recall: 0.9233 - tn: 219806.0000 - tp: 385.0000 - val_fn: 10.0000 - val_fp: 473.0000 - val_loss: 0.0605 - val_precision: 0.1208 - val_recall: 0.8667 - val_tn: 56413.0000 - val_tp: 65.0000\n",
      "Epoch 3/30\n",
      "112/112 - 1s - 12ms/step - fn: 23.0000 - fp: 6427.0000 - loss: 9.8293e-07 - precision: 0.0578 - recall: 0.9448 - tn: 221002.0000 - tp: 394.0000 - val_fn: 10.0000 - val_fp: 779.0000 - val_loss: 0.0569 - val_precision: 0.0770 - val_recall: 0.8667 - val_tn: 56107.0000 - val_tp: 65.0000\n",
      "Epoch 4/30\n",
      "112/112 - 1s - 13ms/step - fn: 23.0000 - fp: 5757.0000 - loss: 1.0192e-06 - precision: 0.0641 - recall: 0.9448 - tn: 221672.0000 - tp: 394.0000 - val_fn: 6.0000 - val_fp: 1766.0000 - val_loss: 0.1139 - val_precision: 0.0376 - val_recall: 0.9200 - val_tn: 55120.0000 - val_tp: 69.0000\n",
      "Epoch 5/30\n",
      "112/112 - 1s - 13ms/step - fn: 23.0000 - fp: 6969.0000 - loss: 8.7056e-07 - precision: 0.0535 - recall: 0.9448 - tn: 220460.0000 - tp: 394.0000 - val_fn: 7.0000 - val_fp: 955.0000 - val_loss: 0.0578 - val_precision: 0.0665 - val_recall: 0.9067 - val_tn: 55931.0000 - val_tp: 68.0000\n",
      "Epoch 6/30\n",
      "112/112 - 1s - 13ms/step - fn: 16.0000 - fp: 6925.0000 - loss: 8.9183e-07 - precision: 0.0547 - recall: 0.9616 - tn: 220504.0000 - tp: 401.0000 - val_fn: 7.0000 - val_fp: 1539.0000 - val_loss: 0.0942 - val_precision: 0.0423 - val_recall: 0.9067 - val_tn: 55347.0000 - val_tp: 68.0000\n",
      "Epoch 7/30\n",
      "112/112 - 2s - 15ms/step - fn: 15.0000 - fp: 5577.0000 - loss: 7.2678e-07 - precision: 0.0672 - recall: 0.9640 - tn: 221852.0000 - tp: 402.0000 - val_fn: 7.0000 - val_fp: 1083.0000 - val_loss: 0.0531 - val_precision: 0.0591 - val_recall: 0.9067 - val_tn: 55803.0000 - val_tp: 68.0000\n",
      "Epoch 8/30\n",
      "112/112 - 1s - 13ms/step - fn: 23.0000 - fp: 9135.0000 - loss: 4.1741e-06 - precision: 0.0413 - recall: 0.9448 - tn: 218294.0000 - tp: 394.0000 - val_fn: 4.0000 - val_fp: 7995.0000 - val_loss: 1.2011 - val_precision: 0.0088 - val_recall: 0.9467 - val_tn: 48891.0000 - val_tp: 71.0000\n",
      "Epoch 9/30\n",
      "112/112 - 1s - 13ms/step - fn: 35.0000 - fp: 11520.0000 - loss: 2.2308e-05 - precision: 0.0321 - recall: 0.9161 - tn: 215909.0000 - tp: 382.0000 - val_fn: 11.0000 - val_fp: 805.0000 - val_loss: 0.2699 - val_precision: 0.0736 - val_recall: 0.8533 - val_tn: 56081.0000 - val_tp: 64.0000\n",
      "Epoch 10/30\n",
      "112/112 - 1s - 12ms/step - fn: 27.0000 - fp: 6888.0000 - loss: 2.0432e-06 - precision: 0.0536 - recall: 0.9353 - tn: 220541.0000 - tp: 390.0000 - val_fn: 10.0000 - val_fp: 437.0000 - val_loss: 0.0517 - val_precision: 0.1295 - val_recall: 0.8667 - val_tn: 56449.0000 - val_tp: 65.0000\n",
      "Epoch 11/30\n",
      "112/112 - 1s - 13ms/step - fn: 27.0000 - fp: 7220.0000 - loss: 1.2533e-06 - precision: 0.0512 - recall: 0.9353 - tn: 220209.0000 - tp: 390.0000 - val_fn: 9.0000 - val_fp: 565.0000 - val_loss: 0.0409 - val_precision: 0.1046 - val_recall: 0.8800 - val_tn: 56321.0000 - val_tp: 66.0000\n",
      "Epoch 12/30\n",
      "112/112 - 1s - 13ms/step - fn: 15.0000 - fp: 6261.0000 - loss: 8.9329e-07 - precision: 0.0603 - recall: 0.9640 - tn: 221168.0000 - tp: 402.0000 - val_fn: 9.0000 - val_fp: 544.0000 - val_loss: 0.0349 - val_precision: 0.1082 - val_recall: 0.8800 - val_tn: 56342.0000 - val_tp: 66.0000\n",
      "Epoch 13/30\n",
      "112/112 - 1s - 12ms/step - fn: 12.0000 - fp: 6198.0000 - loss: 8.2150e-07 - precision: 0.0613 - recall: 0.9712 - tn: 221231.0000 - tp: 405.0000 - val_fn: 9.0000 - val_fp: 394.0000 - val_loss: 0.0263 - val_precision: 0.1435 - val_recall: 0.8800 - val_tn: 56492.0000 - val_tp: 66.0000\n",
      "Epoch 14/30\n",
      "112/112 - 1s - 12ms/step - fn: 11.0000 - fp: 5696.0000 - loss: 5.5174e-07 - precision: 0.0665 - recall: 0.9736 - tn: 221733.0000 - tp: 406.0000 - val_fn: 9.0000 - val_fp: 578.0000 - val_loss: 0.0268 - val_precision: 0.1025 - val_recall: 0.8800 - val_tn: 56308.0000 - val_tp: 66.0000\n",
      "Epoch 15/30\n",
      "112/112 - 1s - 12ms/step - fn: 9.0000 - fp: 6818.0000 - loss: 6.9970e-07 - precision: 0.0565 - recall: 0.9784 - tn: 220611.0000 - tp: 408.0000 - val_fn: 10.0000 - val_fp: 405.0000 - val_loss: 0.0381 - val_precision: 0.1383 - val_recall: 0.8667 - val_tn: 56481.0000 - val_tp: 65.0000\n",
      "Epoch 16/30\n",
      "112/112 - 1s - 12ms/step - fn: 13.0000 - fp: 6888.0000 - loss: 7.1823e-07 - precision: 0.0554 - recall: 0.9688 - tn: 220541.0000 - tp: 404.0000 - val_fn: 10.0000 - val_fp: 560.0000 - val_loss: 0.0338 - val_precision: 0.1040 - val_recall: 0.8667 - val_tn: 56326.0000 - val_tp: 65.0000\n",
      "Epoch 17/30\n",
      "112/112 - 1s - 12ms/step - fn: 6.0000 - fp: 7120.0000 - loss: 5.9604e-07 - precision: 0.0546 - recall: 0.9856 - tn: 220309.0000 - tp: 411.0000 - val_fn: 12.0000 - val_fp: 330.0000 - val_loss: 0.0283 - val_precision: 0.1603 - val_recall: 0.8400 - val_tn: 56556.0000 - val_tp: 63.0000\n",
      "Epoch 18/30\n",
      "112/112 - 1s - 12ms/step - fn: 14.0000 - fp: 5612.0000 - loss: 7.1471e-07 - precision: 0.0670 - recall: 0.9664 - tn: 221817.0000 - tp: 403.0000 - val_fn: 11.0000 - val_fp: 435.0000 - val_loss: 0.0311 - val_precision: 0.1283 - val_recall: 0.8533 - val_tn: 56451.0000 - val_tp: 64.0000\n",
      "Epoch 19/30\n",
      "112/112 - 1s - 13ms/step - fn: 8.0000 - fp: 4315.0000 - loss: 4.2136e-07 - precision: 0.0866 - recall: 0.9808 - tn: 223114.0000 - tp: 409.0000 - val_fn: 11.0000 - val_fp: 313.0000 - val_loss: 0.0231 - val_precision: 0.1698 - val_recall: 0.8533 - val_tn: 56573.0000 - val_tp: 64.0000\n",
      "Epoch 20/30\n",
      "112/112 - 1s - 12ms/step - fn: 5.0000 - fp: 3454.0000 - loss: 3.4438e-07 - precision: 0.1066 - recall: 0.9880 - tn: 223975.0000 - tp: 412.0000 - val_fn: 11.0000 - val_fp: 300.0000 - val_loss: 0.0170 - val_precision: 0.1758 - val_recall: 0.8533 - val_tn: 56586.0000 - val_tp: 64.0000\n",
      "Epoch 21/30\n",
      "112/112 - 1s - 12ms/step - fn: 6.0000 - fp: 3567.0000 - loss: 4.2434e-07 - precision: 0.1033 - recall: 0.9856 - tn: 223862.0000 - tp: 411.0000 - val_fn: 9.0000 - val_fp: 418.0000 - val_loss: 0.0554 - val_precision: 0.1364 - val_recall: 0.8800 - val_tn: 56468.0000 - val_tp: 66.0000\n",
      "Epoch 22/30\n",
      "112/112 - 1s - 12ms/step - fn: 5.0000 - fp: 3819.0000 - loss: 4.1472e-07 - precision: 0.0974 - recall: 0.9880 - tn: 223610.0000 - tp: 412.0000 - val_fn: 11.0000 - val_fp: 651.0000 - val_loss: 0.0433 - val_precision: 0.0895 - val_recall: 0.8533 - val_tn: 56235.0000 - val_tp: 64.0000\n",
      "Epoch 23/30\n",
      "112/112 - 1s - 13ms/step - fn: 5.0000 - fp: 4190.0000 - loss: 5.7055e-07 - precision: 0.0895 - recall: 0.9880 - tn: 223239.0000 - tp: 412.0000 - val_fn: 9.0000 - val_fp: 1339.0000 - val_loss: 0.0764 - val_precision: 0.0470 - val_recall: 0.8800 - val_tn: 55547.0000 - val_tp: 66.0000\n",
      "Epoch 24/30\n",
      "112/112 - 1s - 12ms/step - fn: 4.0000 - fp: 4411.0000 - loss: 3.9763e-07 - precision: 0.0856 - recall: 0.9904 - tn: 223018.0000 - tp: 413.0000 - val_fn: 7.0000 - val_fp: 913.0000 - val_loss: 0.0484 - val_precision: 0.0693 - val_recall: 0.9067 - val_tn: 55973.0000 - val_tp: 68.0000\n",
      "Epoch 25/30\n",
      "112/112 - 1s - 13ms/step - fn: 4.0000 - fp: 3752.0000 - loss: 3.5869e-07 - precision: 0.0992 - recall: 0.9904 - tn: 223677.0000 - tp: 413.0000 - val_fn: 10.0000 - val_fp: 1162.0000 - val_loss: 0.0664 - val_precision: 0.0530 - val_recall: 0.8667 - val_tn: 55724.0000 - val_tp: 65.0000\n",
      "Epoch 26/30\n",
      "112/112 - 1s - 13ms/step - fn: 3.0000 - fp: 3286.0000 - loss: 2.7039e-07 - precision: 0.1119 - recall: 0.9928 - tn: 224143.0000 - tp: 414.0000 - val_fn: 13.0000 - val_fp: 218.0000 - val_loss: 0.0150 - val_precision: 0.2214 - val_recall: 0.8267 - val_tn: 56668.0000 - val_tp: 62.0000\n",
      "Epoch 27/30\n",
      "112/112 - 1s - 12ms/step - fn: 3.0000 - fp: 3168.0000 - loss: 3.3627e-07 - precision: 0.1156 - recall: 0.9928 - tn: 224261.0000 - tp: 414.0000 - val_fn: 9.0000 - val_fp: 691.0000 - val_loss: 0.0316 - val_precision: 0.0872 - val_recall: 0.8800 - val_tn: 56195.0000 - val_tp: 66.0000\n",
      "Epoch 28/30\n",
      "112/112 - 1s - 13ms/step - fn: 2.0000 - fp: 5187.0000 - loss: 3.2252e-07 - precision: 0.0741 - recall: 0.9952 - tn: 222242.0000 - tp: 415.0000 - val_fn: 10.0000 - val_fp: 441.0000 - val_loss: 0.0283 - val_precision: 0.1285 - val_recall: 0.8667 - val_tn: 56445.0000 - val_tp: 65.0000\n",
      "Epoch 29/30\n",
      "112/112 - 1s - 13ms/step - fn: 2.0000 - fp: 2799.0000 - loss: 2.5905e-07 - precision: 0.1291 - recall: 0.9952 - tn: 224630.0000 - tp: 415.0000 - val_fn: 9.0000 - val_fp: 418.0000 - val_loss: 0.0238 - val_precision: 0.1364 - val_recall: 0.8800 - val_tn: 56468.0000 - val_tp: 66.0000\n",
      "Epoch 30/30\n",
      "112/112 - 1s - 12ms/step - fn: 3.0000 - fp: 2803.0000 - loss: 2.4001e-07 - precision: 0.1287 - recall: 0.9928 - tn: 224626.0000 - tp: 414.0000 - val_fn: 8.0000 - val_fp: 441.0000 - val_loss: 0.0348 - val_precision: 0.1319 - val_recall: 0.8933 - val_tn: 56445.0000 - val_tp: 67.0000\n"
     ]
    },
    {
     "data": {
      "text/plain": [
       "<keras.src.callbacks.history.History at 0x27648306060>"
      ]
     },
     "execution_count": 99,
     "metadata": {},
     "output_type": "execute_result"
    }
   ],
   "source": [
    "metrics = [\n",
    "    keras.metrics.FalseNegatives(name=\"fn\"),\n",
    "    keras.metrics.FalsePositives(name=\"fp\"),\n",
    "    keras.metrics.TrueNegatives(name=\"tn\"),\n",
    "    keras.metrics.TruePositives(name=\"tp\"),\n",
    "    keras.metrics.Precision(name=\"precision\"),\n",
    "    keras.metrics.Recall(name=\"recall\"),\n",
    "]\n",
    "\n",
    "model.compile(\n",
    "    optimizer=keras.optimizers.Adam(1e-2), loss=\"binary_crossentropy\", metrics=metrics\n",
    ")\n",
    "\n",
    "callbacks = [keras.callbacks.ModelCheckpoint(\"fraud_model_at_epoch_{epoch}.keras\")]\n",
    "class_weight = {0: weight_for_0, 1: weight_for_1}\n",
    "\n",
    "model.fit(\n",
    "    train_features,\n",
    "    train_targets,\n",
    "    batch_size=2048,\n",
    "    epochs=30,\n",
    "    verbose=2,\n",
    "    # callbacks=callbacks,\n",
    "    validation_data=(val_features, val_targets),\n",
    "    class_weight=class_weight,\n",
    ")"
   ]
  },
  {
   "cell_type": "markdown",
   "metadata": {},
   "source": [
    "## Sklearn"
   ]
  },
  {
   "cell_type": "code",
   "execution_count": 117,
   "metadata": {},
   "outputs": [
    {
     "name": "stdout",
     "output_type": "stream",
     "text": [
      "(284807, 30) (284807, 1)\n"
     ]
    }
   ],
   "source": [
    "X = np.array(df.drop('Class', axis=1), dtype='float32')\n",
    "y = np.array(df[['Class']], dtype='uint8')\n",
    "print(X.shape, y.shape)"
   ]
  },
  {
   "cell_type": "code",
   "execution_count": null,
   "metadata": {},
   "outputs": [],
   "source": [
    "# X = df.drop('Class', axis=1)\n",
    "# y = df[['Class']]"
   ]
  },
  {
   "cell_type": "code",
   "execution_count": 118,
   "metadata": {},
   "outputs": [
    {
     "name": "stdout",
     "output_type": "stream",
     "text": [
      "(227845, 30) (56962, 30)\n"
     ]
    }
   ],
   "source": [
    "X_train, X_test, y_train, y_test = model_selection.train_test_split(X, y, test_size=.2, shuffle=False, random_state=13)\n",
    "print(X_train.shape, X_test.shape)"
   ]
  },
  {
   "cell_type": "code",
   "execution_count": 121,
   "metadata": {},
   "outputs": [
    {
     "data": {
      "text/plain": [
       "0\n",
       "0    99.816981\n",
       "1     0.183019\n",
       "Name: proportion, dtype: float64"
      ]
     },
     "execution_count": 121,
     "metadata": {},
     "output_type": "execute_result"
    }
   ],
   "source": [
    "pd.DataFrame(y_train).value_counts(normalize=True)*100"
   ]
  },
  {
   "cell_type": "code",
   "execution_count": 122,
   "metadata": {},
   "outputs": [
    {
     "data": {
      "text/plain": [
       "227428"
      ]
     },
     "execution_count": 122,
     "metadata": {},
     "output_type": "execute_result"
    }
   ],
   "source": [
    "pd.DataFrame(y_train)[0].value_counts()[0]"
   ]
  },
  {
   "cell_type": "code",
   "execution_count": 124,
   "metadata": {},
   "outputs": [
    {
     "name": "stdout",
     "output_type": "stream",
     "text": [
      "0.0 0.0024\n"
     ]
    }
   ],
   "source": [
    "weight_0 = 1 / pd.DataFrame(y_train)[0].value_counts()[0]\n",
    "weight_1 = 1 / pd.DataFrame(y_train)[0].value_counts()[1]\n",
    "print(np.round(weight_0, 5), np.round(weight_1, 5))"
   ]
  },
  {
   "cell_type": "code",
   "execution_count": 125,
   "metadata": {},
   "outputs": [],
   "source": [
    "scaler = preprocessing.StandardScaler()\n",
    "X_train_scaler = scaler.fit_transform(X_train)\n",
    "X_test_scaler = scaler.transform(X_test)"
   ]
  },
  {
   "cell_type": "code",
   "execution_count": 126,
   "metadata": {},
   "outputs": [
    {
     "data": {
      "text/plain": [
       "(30,)"
      ]
     },
     "execution_count": 126,
     "metadata": {},
     "output_type": "execute_result"
    }
   ],
   "source": [
    "X_train_scaler.shape[1:]"
   ]
  },
  {
   "cell_type": "code",
   "execution_count": 127,
   "metadata": {},
   "outputs": [
    {
     "data": {
      "text/html": [
       "<pre style=\"white-space:pre;overflow-x:auto;line-height:normal;font-family:Menlo,'DejaVu Sans Mono',consolas,'Courier New',monospace\"><span style=\"font-weight: bold\">Model: \"sequential_5\"</span>\n",
       "</pre>\n"
      ],
      "text/plain": [
       "\u001b[1mModel: \"sequential_5\"\u001b[0m\n"
      ]
     },
     "metadata": {},
     "output_type": "display_data"
    },
    {
     "data": {
      "text/html": [
       "<pre style=\"white-space:pre;overflow-x:auto;line-height:normal;font-family:Menlo,'DejaVu Sans Mono',consolas,'Courier New',monospace\">┏━━━━━━━━━━━━━━━━━━━━━━━━━━━━━━━━━┳━━━━━━━━━━━━━━━━━━━━━━━━┳━━━━━━━━━━━━━━━┓\n",
       "┃<span style=\"font-weight: bold\"> Layer (type)                    </span>┃<span style=\"font-weight: bold\"> Output Shape           </span>┃<span style=\"font-weight: bold\">       Param # </span>┃\n",
       "┡━━━━━━━━━━━━━━━━━━━━━━━━━━━━━━━━━╇━━━━━━━━━━━━━━━━━━━━━━━━╇━━━━━━━━━━━━━━━┩\n",
       "│ dense_20 (<span style=\"color: #0087ff; text-decoration-color: #0087ff\">Dense</span>)                │ (<span style=\"color: #00d7ff; text-decoration-color: #00d7ff\">None</span>, <span style=\"color: #00af00; text-decoration-color: #00af00\">256</span>)            │         <span style=\"color: #00af00; text-decoration-color: #00af00\">7,936</span> │\n",
       "├─────────────────────────────────┼────────────────────────┼───────────────┤\n",
       "│ dense_21 (<span style=\"color: #0087ff; text-decoration-color: #0087ff\">Dense</span>)                │ (<span style=\"color: #00d7ff; text-decoration-color: #00d7ff\">None</span>, <span style=\"color: #00af00; text-decoration-color: #00af00\">256</span>)            │        <span style=\"color: #00af00; text-decoration-color: #00af00\">65,792</span> │\n",
       "├─────────────────────────────────┼────────────────────────┼───────────────┤\n",
       "│ dropout_10 (<span style=\"color: #0087ff; text-decoration-color: #0087ff\">Dropout</span>)            │ (<span style=\"color: #00d7ff; text-decoration-color: #00d7ff\">None</span>, <span style=\"color: #00af00; text-decoration-color: #00af00\">256</span>)            │             <span style=\"color: #00af00; text-decoration-color: #00af00\">0</span> │\n",
       "├─────────────────────────────────┼────────────────────────┼───────────────┤\n",
       "│ dense_22 (<span style=\"color: #0087ff; text-decoration-color: #0087ff\">Dense</span>)                │ (<span style=\"color: #00d7ff; text-decoration-color: #00d7ff\">None</span>, <span style=\"color: #00af00; text-decoration-color: #00af00\">256</span>)            │        <span style=\"color: #00af00; text-decoration-color: #00af00\">65,792</span> │\n",
       "├─────────────────────────────────┼────────────────────────┼───────────────┤\n",
       "│ dropout_11 (<span style=\"color: #0087ff; text-decoration-color: #0087ff\">Dropout</span>)            │ (<span style=\"color: #00d7ff; text-decoration-color: #00d7ff\">None</span>, <span style=\"color: #00af00; text-decoration-color: #00af00\">256</span>)            │             <span style=\"color: #00af00; text-decoration-color: #00af00\">0</span> │\n",
       "├─────────────────────────────────┼────────────────────────┼───────────────┤\n",
       "│ dense_23 (<span style=\"color: #0087ff; text-decoration-color: #0087ff\">Dense</span>)                │ (<span style=\"color: #00d7ff; text-decoration-color: #00d7ff\">None</span>, <span style=\"color: #00af00; text-decoration-color: #00af00\">1</span>)              │           <span style=\"color: #00af00; text-decoration-color: #00af00\">257</span> │\n",
       "└─────────────────────────────────┴────────────────────────┴───────────────┘\n",
       "</pre>\n"
      ],
      "text/plain": [
       "┏━━━━━━━━━━━━━━━━━━━━━━━━━━━━━━━━━┳━━━━━━━━━━━━━━━━━━━━━━━━┳━━━━━━━━━━━━━━━┓\n",
       "┃\u001b[1m \u001b[0m\u001b[1mLayer (type)                   \u001b[0m\u001b[1m \u001b[0m┃\u001b[1m \u001b[0m\u001b[1mOutput Shape          \u001b[0m\u001b[1m \u001b[0m┃\u001b[1m \u001b[0m\u001b[1m      Param #\u001b[0m\u001b[1m \u001b[0m┃\n",
       "┡━━━━━━━━━━━━━━━━━━━━━━━━━━━━━━━━━╇━━━━━━━━━━━━━━━━━━━━━━━━╇━━━━━━━━━━━━━━━┩\n",
       "│ dense_20 (\u001b[38;5;33mDense\u001b[0m)                │ (\u001b[38;5;45mNone\u001b[0m, \u001b[38;5;34m256\u001b[0m)            │         \u001b[38;5;34m7,936\u001b[0m │\n",
       "├─────────────────────────────────┼────────────────────────┼───────────────┤\n",
       "│ dense_21 (\u001b[38;5;33mDense\u001b[0m)                │ (\u001b[38;5;45mNone\u001b[0m, \u001b[38;5;34m256\u001b[0m)            │        \u001b[38;5;34m65,792\u001b[0m │\n",
       "├─────────────────────────────────┼────────────────────────┼───────────────┤\n",
       "│ dropout_10 (\u001b[38;5;33mDropout\u001b[0m)            │ (\u001b[38;5;45mNone\u001b[0m, \u001b[38;5;34m256\u001b[0m)            │             \u001b[38;5;34m0\u001b[0m │\n",
       "├─────────────────────────────────┼────────────────────────┼───────────────┤\n",
       "│ dense_22 (\u001b[38;5;33mDense\u001b[0m)                │ (\u001b[38;5;45mNone\u001b[0m, \u001b[38;5;34m256\u001b[0m)            │        \u001b[38;5;34m65,792\u001b[0m │\n",
       "├─────────────────────────────────┼────────────────────────┼───────────────┤\n",
       "│ dropout_11 (\u001b[38;5;33mDropout\u001b[0m)            │ (\u001b[38;5;45mNone\u001b[0m, \u001b[38;5;34m256\u001b[0m)            │             \u001b[38;5;34m0\u001b[0m │\n",
       "├─────────────────────────────────┼────────────────────────┼───────────────┤\n",
       "│ dense_23 (\u001b[38;5;33mDense\u001b[0m)                │ (\u001b[38;5;45mNone\u001b[0m, \u001b[38;5;34m1\u001b[0m)              │           \u001b[38;5;34m257\u001b[0m │\n",
       "└─────────────────────────────────┴────────────────────────┴───────────────┘\n"
      ]
     },
     "metadata": {},
     "output_type": "display_data"
    },
    {
     "data": {
      "text/html": [
       "<pre style=\"white-space:pre;overflow-x:auto;line-height:normal;font-family:Menlo,'DejaVu Sans Mono',consolas,'Courier New',monospace\"><span style=\"font-weight: bold\"> Total params: </span><span style=\"color: #00af00; text-decoration-color: #00af00\">139,777</span> (546.00 KB)\n",
       "</pre>\n"
      ],
      "text/plain": [
       "\u001b[1m Total params: \u001b[0m\u001b[38;5;34m139,777\u001b[0m (546.00 KB)\n"
      ]
     },
     "metadata": {},
     "output_type": "display_data"
    },
    {
     "data": {
      "text/html": [
       "<pre style=\"white-space:pre;overflow-x:auto;line-height:normal;font-family:Menlo,'DejaVu Sans Mono',consolas,'Courier New',monospace\"><span style=\"font-weight: bold\"> Trainable params: </span><span style=\"color: #00af00; text-decoration-color: #00af00\">139,777</span> (546.00 KB)\n",
       "</pre>\n"
      ],
      "text/plain": [
       "\u001b[1m Trainable params: \u001b[0m\u001b[38;5;34m139,777\u001b[0m (546.00 KB)\n"
      ]
     },
     "metadata": {},
     "output_type": "display_data"
    },
    {
     "data": {
      "text/html": [
       "<pre style=\"white-space:pre;overflow-x:auto;line-height:normal;font-family:Menlo,'DejaVu Sans Mono',consolas,'Courier New',monospace\"><span style=\"font-weight: bold\"> Non-trainable params: </span><span style=\"color: #00af00; text-decoration-color: #00af00\">0</span> (0.00 B)\n",
       "</pre>\n"
      ],
      "text/plain": [
       "\u001b[1m Non-trainable params: \u001b[0m\u001b[38;5;34m0\u001b[0m (0.00 B)\n"
      ]
     },
     "metadata": {},
     "output_type": "display_data"
    }
   ],
   "source": [
    "model = keras.Sequential(\n",
    "    [\n",
    "        keras.Input(shape=X_train_scaler.shape[1:]),\n",
    "        keras.layers.Dense(256, activation=\"relu\"),\n",
    "        keras.layers.Dense(256, activation=\"relu\"),\n",
    "        keras.layers.Dropout(0.3),\n",
    "        keras.layers.Dense(256, activation=\"relu\"),\n",
    "        keras.layers.Dropout(0.3),\n",
    "        keras.layers.Dense(1, activation=\"sigmoid\"),\n",
    "    ]\n",
    ")\n",
    "model.summary()"
   ]
  },
  {
   "cell_type": "code",
   "execution_count": 128,
   "metadata": {},
   "outputs": [
    {
     "name": "stdout",
     "output_type": "stream",
     "text": [
      "Epoch 1/30\n",
      "112/112 - 3s - 23ms/step - loss: 2.2646e-06 - precision: 0.0126 - recall: 0.8897 - val_loss: 0.1339 - val_precision: 0.0423 - val_recall: 0.8933\n",
      "Epoch 2/30\n",
      "112/112 - 1s - 13ms/step - loss: 1.3572e-06 - precision: 0.0532 - recall: 0.9161 - val_loss: 0.0373 - val_precision: 0.1680 - val_recall: 0.8667\n",
      "Epoch 3/30\n",
      "112/112 - 1s - 13ms/step - loss: 1.2315e-06 - precision: 0.0479 - recall: 0.9376 - val_loss: 0.0344 - val_precision: 0.1944 - val_recall: 0.8400\n",
      "Epoch 4/30\n",
      "112/112 - 1s - 13ms/step - loss: 1.1356e-06 - precision: 0.0516 - recall: 0.9257 - val_loss: 0.0501 - val_precision: 0.1262 - val_recall: 0.8533\n",
      "Epoch 5/30\n",
      "112/112 - 1s - 13ms/step - loss: 1.1230e-06 - precision: 0.0395 - recall: 0.9448 - val_loss: 0.0296 - val_precision: 0.1521 - val_recall: 0.8800\n",
      "Epoch 6/30\n",
      "112/112 - 1s - 13ms/step - loss: 8.0631e-07 - precision: 0.0565 - recall: 0.9568 - val_loss: 0.0365 - val_precision: 0.1231 - val_recall: 0.8667\n",
      "Epoch 7/30\n",
      "112/112 - 1s - 13ms/step - loss: 6.7351e-07 - precision: 0.0612 - recall: 0.9712 - val_loss: 0.0203 - val_precision: 0.1916 - val_recall: 0.8533\n",
      "Epoch 8/30\n",
      "112/112 - 1s - 12ms/step - loss: 8.2790e-07 - precision: 0.0513 - recall: 0.9688 - val_loss: 0.0141 - val_precision: 0.2299 - val_recall: 0.8400\n",
      "Epoch 9/30\n",
      "112/112 - 1s - 13ms/step - loss: 8.4652e-07 - precision: 0.0559 - recall: 0.9592 - val_loss: 0.2071 - val_precision: 0.0159 - val_recall: 0.9467\n",
      "Epoch 10/30\n",
      "112/112 - 1s - 13ms/step - loss: 7.2760e-07 - precision: 0.0474 - recall: 0.9784 - val_loss: 0.0452 - val_precision: 0.0615 - val_recall: 0.9067\n",
      "Epoch 11/30\n",
      "112/112 - 1s - 13ms/step - loss: 5.4402e-07 - precision: 0.0705 - recall: 0.9784 - val_loss: 0.0273 - val_precision: 0.0878 - val_recall: 0.8800\n",
      "Epoch 12/30\n",
      "112/112 - 1s - 13ms/step - loss: 9.1436e-07 - precision: 0.0587 - recall: 0.9640 - val_loss: 0.0615 - val_precision: 0.0648 - val_recall: 0.9067\n",
      "Epoch 13/30\n",
      "112/112 - 1s - 13ms/step - loss: 8.9441e-07 - precision: 0.0532 - recall: 0.9736 - val_loss: 0.0949 - val_precision: 0.0312 - val_recall: 0.9200\n",
      "Epoch 14/30\n",
      "112/112 - 1s - 13ms/step - loss: 8.1186e-07 - precision: 0.0607 - recall: 0.9712 - val_loss: 0.0247 - val_precision: 0.1565 - val_recall: 0.8533\n",
      "Epoch 15/30\n",
      "112/112 - 1s - 13ms/step - loss: 5.2570e-07 - precision: 0.0825 - recall: 0.9736 - val_loss: 0.0302 - val_precision: 0.0937 - val_recall: 0.8933\n",
      "Epoch 16/30\n",
      "112/112 - 1s - 13ms/step - loss: 5.0736e-07 - precision: 0.0912 - recall: 0.9856 - val_loss: 0.0540 - val_precision: 0.0488 - val_recall: 0.8933\n",
      "Epoch 17/30\n",
      "112/112 - 1s - 12ms/step - loss: 5.6545e-07 - precision: 0.0785 - recall: 0.9856 - val_loss: 0.0309 - val_precision: 0.0913 - val_recall: 0.8933\n",
      "Epoch 18/30\n",
      "112/112 - 1s - 13ms/step - loss: 5.3303e-07 - precision: 0.0824 - recall: 0.9880 - val_loss: 0.0196 - val_precision: 0.1461 - val_recall: 0.8667\n",
      "Epoch 19/30\n",
      "112/112 - 1s - 13ms/step - loss: 4.0147e-07 - precision: 0.0865 - recall: 0.9880 - val_loss: 0.0389 - val_precision: 0.0776 - val_recall: 0.8933\n",
      "Epoch 20/30\n",
      "112/112 - 1s - 13ms/step - loss: 3.6334e-07 - precision: 0.0831 - recall: 0.9928 - val_loss: 0.0101 - val_precision: 0.2075 - val_recall: 0.8133\n",
      "Epoch 21/30\n",
      "112/112 - 1s - 13ms/step - loss: 2.5375e-07 - precision: 0.1108 - recall: 0.9952 - val_loss: 0.0212 - val_precision: 0.1328 - val_recall: 0.8800\n",
      "Epoch 22/30\n",
      "112/112 - 1s - 13ms/step - loss: 2.4004e-07 - precision: 0.1286 - recall: 0.9928 - val_loss: 0.0248 - val_precision: 0.1222 - val_recall: 0.8800\n",
      "Epoch 23/30\n",
      "112/112 - 1s - 13ms/step - loss: 2.8425e-07 - precision: 0.1204 - recall: 0.9904 - val_loss: 0.0206 - val_precision: 0.1259 - val_recall: 0.8933\n",
      "Epoch 24/30\n",
      "112/112 - 1s - 12ms/step - loss: 2.2480e-07 - precision: 0.1139 - recall: 1.0000 - val_loss: 0.0098 - val_precision: 0.2739 - val_recall: 0.8400\n",
      "Epoch 25/30\n",
      "112/112 - 1s - 13ms/step - loss: 3.4650e-07 - precision: 0.1000 - recall: 0.9928 - val_loss: 0.3010 - val_precision: 0.0117 - val_recall: 0.8933\n",
      "Epoch 26/30\n",
      "112/112 - 1s - 13ms/step - loss: 3.3985e-07 - precision: 0.0857 - recall: 0.9904 - val_loss: 0.0499 - val_precision: 0.0559 - val_recall: 0.9067\n",
      "Epoch 27/30\n",
      "112/112 - 1s - 13ms/step - loss: 1.9012e-07 - precision: 0.1637 - recall: 0.9976 - val_loss: 0.0197 - val_precision: 0.1384 - val_recall: 0.8933\n",
      "Epoch 28/30\n",
      "112/112 - 1s - 13ms/step - loss: 2.7257e-07 - precision: 0.1118 - recall: 0.9928 - val_loss: 0.0352 - val_precision: 0.0711 - val_recall: 0.8933\n",
      "Epoch 29/30\n",
      "112/112 - 1s - 13ms/step - loss: 2.4998e-07 - precision: 0.1049 - recall: 0.9976 - val_loss: 0.0109 - val_precision: 0.2062 - val_recall: 0.8800\n",
      "Epoch 30/30\n",
      "112/112 - 1s - 13ms/step - loss: 2.2412e-07 - precision: 0.1286 - recall: 0.9976 - val_loss: 0.0226 - val_precision: 0.1553 - val_recall: 0.8800\n"
     ]
    },
    {
     "data": {
      "text/plain": [
       "<keras.src.callbacks.history.History at 0x2761eaad430>"
      ]
     },
     "execution_count": 128,
     "metadata": {},
     "output_type": "execute_result"
    }
   ],
   "source": [
    "metrics = [\n",
    "    # keras.metrics.FalseNegatives(name=\"fn\"),\n",
    "    # keras.metrics.FalsePositives(name=\"fp\"),\n",
    "    # keras.metrics.TrueNegatives(name=\"tn\"),\n",
    "    # keras.metrics.TruePositives(name=\"tp\"),\n",
    "    keras.metrics.Precision(name=\"precision\"),\n",
    "    keras.metrics.Recall(name=\"recall\"),\n",
    "]\n",
    "\n",
    "model.compile(\n",
    "    optimizer=keras.optimizers.Adam(1e-2), loss=\"binary_crossentropy\", metrics=metrics\n",
    ")\n",
    "\n",
    "callbacks = [keras.callbacks.ModelCheckpoint(\"fraud_model_at_epoch_{epoch}.keras\")]\n",
    "class_weight = {0: weight_0, 1: weight_1}\n",
    "\n",
    "model.fit(\n",
    "    X_train_scaler,\n",
    "    y_train,\n",
    "    batch_size=2048,\n",
    "    epochs=30,\n",
    "    verbose=2,\n",
    "    # callbacks=callbacks,\n",
    "    validation_data=(X_test_scaler, y_test),\n",
    "    class_weight=class_weight,\n",
    ")"
   ]
  }
 ],
 "metadata": {
  "kernelspec": {
   "display_name": "Python 3",
   "language": "python",
   "name": "python3"
  },
  "language_info": {
   "codemirror_mode": {
    "name": "ipython",
    "version": 3
   },
   "file_extension": ".py",
   "mimetype": "text/x-python",
   "name": "python",
   "nbconvert_exporter": "python",
   "pygments_lexer": "ipython3",
   "version": "3.12.3"
  }
 },
 "nbformat": 4,
 "nbformat_minor": 2
}
