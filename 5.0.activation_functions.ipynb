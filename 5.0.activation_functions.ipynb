{
 "cells": [
  {
   "cell_type": "markdown",
   "metadata": {},
   "source": [
    "## Библиотеки"
   ]
  },
  {
   "cell_type": "code",
   "execution_count": 80,
   "metadata": {},
   "outputs": [],
   "source": [
    "import numpy as np\n",
    "import sys\n",
    "from keras.datasets import mnist"
   ]
  },
  {
   "cell_type": "markdown",
   "metadata": {},
   "source": [
    "## Данные"
   ]
  },
  {
   "cell_type": "code",
   "execution_count": 81,
   "metadata": {},
   "outputs": [],
   "source": [
    "(x_train, y_train), (x_test, y_test) = mnist.load_data()"
   ]
  },
  {
   "cell_type": "code",
   "execution_count": 82,
   "metadata": {},
   "outputs": [],
   "source": [
    "# Возьмем 1000 наблюдений и вытянем картинки в вектор и отцентрируем и нормируем. \n",
    "images, labels = x_train[0:1000].reshape(1000, 28*28) / 255, y_train[0:1000]\n",
    "# Закодируем категориальный признак.\n",
    "one_hot_labels = np.zeros((len(labels), 10))\n",
    "for i, l in enumerate(labels):\n",
    "    one_hot_labels[i][l] = 1\n",
    "labels = one_hot_labels\n",
    "test_images = x_test.reshape(len(x_test), 28*28) / 255\n",
    "test_labels = np.zeros((len(y_test), 10))\n",
    "for i, l in enumerate(y_test):\n",
    "    test_labels[i][l] = 1"
   ]
  },
  {
   "cell_type": "code",
   "execution_count": 83,
   "metadata": {},
   "outputs": [],
   "source": [
    "def tanh(x):\n",
    "    return np.tanh(x)\n",
    "\n",
    "def tang2deriv(output):\n",
    "    return 1 - (output ** 2)\n",
    "\n",
    "def softmax(x):\n",
    "    temp = np.exp(x)\n",
    "    return temp / np.sum(temp, axis=1, keepdims=True)"
   ]
  },
  {
   "cell_type": "code",
   "execution_count": 84,
   "metadata": {},
   "outputs": [],
   "source": [
    "# Зададим параметры.\n",
    "alpha = 2\n",
    "iterations = 300\n",
    "hidden_size = 100\n",
    "pixels_per_image = 784\n",
    "num_labels = 10\n",
    "batch_size = 100"
   ]
  },
  {
   "cell_type": "code",
   "execution_count": 85,
   "metadata": {},
   "outputs": [],
   "source": [
    "# Создадим веса.\n",
    "np.random.seed(1)\n",
    "weights_0_1 = 0.02 * np.random.random((pixels_per_image, hidden_size)) - 0.01\n",
    "weights_1_2 = 0.2 * np.random.random((hidden_size, num_labels)) - 0.1"
   ]
  },
  {
   "cell_type": "code",
   "execution_count": 86,
   "metadata": {},
   "outputs": [
    {
     "name": "stdout",
     "output_type": "stream",
     "text": [
      "\n",
      "I : 0 Train-Acc : 0.156 Test-Acc : 0.394\n",
      "I : 10 Train-Acc : 0.723 Test-Acc : 0.6867\n",
      "I : 20 Train-Acc : 0.732 Test-Acc : 0.7025\n",
      "I : 30 Train-Acc : 0.763 Test-Acc : 0.734\n",
      "I : 40 Train-Acc : 0.794 Test-Acc : 0.7663\n",
      "I : 50 Train-Acc : 0.819 Test-Acc : 0.7913\n",
      "I : 60 Train-Acc : 0.849 Test-Acc : 0.8102\n",
      "I : 70 Train-Acc : 0.864 Test-Acc : 0.8228\n",
      "I : 80 Train-Acc : 0.867 Test-Acc : 0.831\n",
      "I : 90 Train-Acc : 0.885 Test-Acc : 0.8364\n",
      "I : 100 Train-Acc : 0.883 Test-Acc : 0.8407\n",
      "I : 110 Train-Acc : 0.891 Test-Acc : 0.845\n",
      "I : 120 Train-Acc : 0.901 Test-Acc : 0.8481\n",
      "I : 130 Train-Acc : 0.901 Test-Acc : 0.8505\n",
      "I : 140 Train-Acc : 0.905 Test-Acc : 0.8526\n",
      "I : 150 Train-Acc : 0.914 Test-Acc : 0.8555\n",
      "I : 160 Train-Acc : 0.925 Test-Acc : 0.8577\n",
      "I : 170 Train-Acc : 0.918 Test-Acc : 0.8596\n",
      "I : 180 Train-Acc : 0.933 Test-Acc : 0.8619\n",
      "I : 190 Train-Acc : 0.933 Test-Acc : 0.863\n",
      "I : 200 Train-Acc : 0.926 Test-Acc : 0.8642\n",
      "I : 210 Train-Acc : 0.931 Test-Acc : 0.8653\n",
      "I : 220 Train-Acc : 0.93 Test-Acc : 0.8668\n",
      "I : 230 Train-Acc : 0.937 Test-Acc : 0.8672\n",
      "I : 240 Train-Acc : 0.938 Test-Acc : 0.8681\n",
      "I : 250 Train-Acc : 0.937 Test-Acc : 0.8687\n",
      "I : 260 Train-Acc : 0.945 Test-Acc : 0.8684\n",
      "I : 270 Train-Acc : 0.951 Test-Acc : 0.8703\n",
      "I : 280 Train-Acc : 0.949 Test-Acc : 0.8699\n",
      "I : 290 Train-Acc : 0.94 Test-Acc : 0.8701"
     ]
    }
   ],
   "source": [
    "for iter in range(iterations):\n",
    "    correct_cnt = 0\n",
    "    for i in range(int(len(images) / batch_size)):\n",
    "        batch_start, batch_end = ((i* batch_size, (i+1) * batch_size))\n",
    "        \n",
    "        layer_0 = images[batch_start : batch_end]\n",
    "        layer_1 = tanh(layer_0.dot(weights_0_1))\n",
    "        dropout_mask = np.random.randint(2, size=layer_1.shape)\n",
    "        layer_1 *= dropout_mask * 2\n",
    "        layer_2 = softmax(layer_1.dot(weights_1_2))\n",
    "        \n",
    "        for k in range(batch_size):\n",
    "            correct_cnt += int(np.argmax(layer_2[k : k+1]) == np.argmax(labels[batch_start+k : batch_start+k+1]))\n",
    "            \n",
    "        layer_2_delta = (layer_2 - labels[batch_start : batch_end]) / (batch_size * layer_2.shape[0])\n",
    "        layer_1_delta = layer_2_delta.dot(weights_1_2.T) * tang2deriv(layer_1)\n",
    "        layer_1_delta *= dropout_mask\n",
    "        \n",
    "        weights_delta_1_2 = layer_1.T.dot(layer_2_delta)\n",
    "        weights_delta_0_1 = layer_0.T.dot(layer_1_delta)\n",
    "        \n",
    "        weights_1_2 -= alpha * weights_delta_1_2\n",
    "        weights_0_1 -= alpha * weights_delta_0_1\n",
    "    \n",
    "        test_correct_cnt = 0\n",
    "        for j in range(len(test_labels)):\n",
    "            layer_0 = test_images[j : j+1]\n",
    "            layer_1 = tanh(layer_0.dot(weights_0_1))\n",
    "            layer_2 = layer_1.dot(weights_1_2)\n",
    "            \n",
    "            test_correct_cnt += int(np.argmax(layer_2) == np.argmax(test_labels[j : j+1]))\n",
    "\n",
    "    if (iter%10 ==0):  \n",
    "        sys.stdout.write('\\n' + 'I : ' + str(iter) + ' Train-Acc : ' + str(correct_cnt/float(len(images/batch_size))) + ' Test-Acc : ' + str(test_correct_cnt/float(len(test_images/batch_size))))   \n",
    "        "
   ]
  }
 ],
 "metadata": {
  "kernelspec": {
   "display_name": "Python 3",
   "language": "python",
   "name": "python3"
  },
  "language_info": {
   "codemirror_mode": {
    "name": "ipython",
    "version": 3
   },
   "file_extension": ".py",
   "mimetype": "text/x-python",
   "name": "python",
   "nbconvert_exporter": "python",
   "pygments_lexer": "ipython3",
   "version": "3.12.3"
  }
 },
 "nbformat": 4,
 "nbformat_minor": 2
}
