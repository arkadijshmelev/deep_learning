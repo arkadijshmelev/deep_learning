{
 "cells": [
  {
   "cell_type": "code",
   "execution_count": 21,
   "metadata": {},
   "outputs": [],
   "source": [
    "import numpy as np"
   ]
  },
  {
   "cell_type": "markdown",
   "metadata": {},
   "source": [
    "## Данные"
   ]
  },
  {
   "cell_type": "code",
   "execution_count": 22,
   "metadata": {},
   "outputs": [],
   "source": [
    "streetlights = np.array([[1, 0, 1], \n",
    "                          [0, 1, 1],\n",
    "                          [0, 0, 1], \n",
    "                          [1, 1, 1], \n",
    "                          [0, 1, 1],\n",
    "                          [1, 0, 1]])\n",
    "\n",
    "walk_vs_stop = np.array([0, 1, 0, 1, 1, 0])  \n",
    "\n",
    "weights = np.array([0.5, 0.48, -0.7])\n",
    "alpha = 0.1"
   ]
  },
  {
   "cell_type": "code",
   "execution_count": 23,
   "metadata": {},
   "outputs": [],
   "source": [
    "input = streetlights[0]\n",
    "goal_prediction = walk_vs_stop[0]"
   ]
  },
  {
   "cell_type": "markdown",
   "metadata": {},
   "source": [
    "## Создание нейронной сети"
   ]
  },
  {
   "cell_type": "code",
   "execution_count": 24,
   "metadata": {},
   "outputs": [
    {
     "name": "stdout",
     "output_type": "stream",
     "text": [
      "Error : 0.04 Prediction : -0.2\n",
      "Error : 0.0256 Prediction : -0.16\n",
      "Error : 0.0164 Prediction : -0.128\n",
      "Error : 0.0105 Prediction : -0.1024\n",
      "Error : 0.0067 Prediction : -0.0819\n",
      "Error : 0.0043 Prediction : -0.0655\n",
      "Error : 0.0027 Prediction : -0.0524\n",
      "Error : 0.0018 Prediction : -0.0419\n",
      "Error : 0.0011 Prediction : -0.0336\n",
      "Error : 0.0007 Prediction : -0.0268\n",
      "Error : 0.0005 Prediction : -0.0215\n",
      "Error : 0.0003 Prediction : -0.0172\n",
      "Error : 0.0002 Prediction : -0.0137\n",
      "Error : 0.0001 Prediction : -0.011\n",
      "Error : 0.0001 Prediction : -0.0088\n",
      "Error : 0.0 Prediction : -0.007\n",
      "Error : 0.0 Prediction : -0.0056\n",
      "Error : 0.0 Prediction : -0.0045\n",
      "Error : 0.0 Prediction : -0.0036\n",
      "Error : 0.0 Prediction : -0.0029\n"
     ]
    }
   ],
   "source": [
    "input = streetlights[0]\n",
    "goal_prediction = walk_vs_stop[0]\n",
    "\n",
    "for i in range(20):\n",
    "    \n",
    "    prediction = input@weights\n",
    "    error = (prediction - goal_prediction) ** 2\n",
    "    delta = prediction - goal_prediction\n",
    "    weights_delta = delta * input\n",
    "    weights -= alpha * weights_delta\n",
    "    \n",
    "    print('Error : ' + str(np.round(error, 4)) + ' Prediction : ' + str(np.round(prediction, 4)))"
   ]
  },
  {
   "cell_type": "markdown",
   "metadata": {},
   "source": [
    "## Обучение на полном наборе данных"
   ]
  },
  {
   "cell_type": "code",
   "execution_count": 25,
   "metadata": {},
   "outputs": [
    {
     "name": "stdout",
     "output_type": "stream",
     "text": [
      "Error : 2.6561231104\n",
      "\n",
      "Error : 0.9628701776715985\n",
      "\n",
      "Error : 0.5509165866836797\n",
      "\n",
      "Error : 0.36445836852222424\n",
      "\n",
      "Error : 0.2516768662079895\n",
      "\n",
      "Error : 0.17797575048089034\n",
      "\n",
      "Error : 0.12864460733422164\n",
      "\n",
      "Error : 0.09511036950476208\n",
      "\n",
      "Error : 0.07194564247043436\n",
      "\n",
      "Error : 0.05564914990717743\n",
      "\n",
      "Error : 0.04394763937673939\n",
      "\n",
      "Error : 0.035357967050948465\n",
      "\n",
      "Error : 0.02890700056547436\n",
      "\n",
      "Error : 0.023951660591138853\n",
      "\n",
      "Error : 0.020063105176016144\n",
      "\n",
      "Error : 0.016952094519447087\n",
      "\n",
      "Error : 0.014420818295271236\n",
      "\n",
      "Error : 0.012331739998443648\n",
      "\n",
      "Error : 0.010587393171639842\n",
      "\n",
      "Error : 0.009117233405426495\n",
      "\n",
      "Error : 0.00786904226904208\n",
      "\n",
      "Error : 0.006803273214640502\n",
      "\n",
      "Error : 0.005889303541837786\n",
      "\n",
      "Error : 0.0051029252561172675\n",
      "\n",
      "Error : 0.004424644608684828\n",
      "\n",
      "Error : 0.0038385124412518303\n",
      "\n",
      "Error : 0.0033313054558089675\n",
      "\n",
      "Error : 0.0028919416227737734\n",
      "\n",
      "Error : 0.002511053608117256\n",
      "\n",
      "Error : 0.0021806703520253884\n",
      "\n",
      "Error : 0.0018939739123713475\n",
      "\n",
      "Error : 0.0016451096996342332\n",
      "\n",
      "Error : 0.0014290353984827077\n",
      "\n",
      "Error : 0.0012413985592149145\n",
      "\n",
      "Error : 0.0010784359268087556\n",
      "\n",
      "Error : 0.0009368896209360312\n",
      "\n",
      "Error : 0.0008139366504753339\n",
      "\n",
      "Error : 0.0007071291752624441\n",
      "\n",
      "Error : 0.0006143435674831474\n",
      "\n",
      "Error : 0.00053373677328488\n",
      "\n"
     ]
    }
   ],
   "source": [
    "weights = np.array([0.5, 0.48, -0.7])\n",
    "\n",
    "for iteration in range(40):\n",
    "    \n",
    "    error_for_all_lights = 0\n",
    "    \n",
    "    for row_index in range(len(walk_vs_stop)):\n",
    "        \n",
    "        prediction = weights.dot(streetlights[row_index])\n",
    "        \n",
    "        error = (walk_vs_stop[row_index] - prediction) ** 2\n",
    "        error_for_all_lights += error\n",
    "        \n",
    "        delta = prediction - walk_vs_stop[row_index]\n",
    "        weights_delta = delta * streetlights[row_index]\n",
    "        weights -= alpha * weights_delta\n",
    "        # print(weights)\n",
    "        \n",
    "        # print('Prediction : ' + str(np.round(prediction, 4)))\n",
    "    \n",
    "    print('Error : ' + str(error_for_all_lights) + '\\n')"
   ]
  },
  {
   "cell_type": "markdown",
   "metadata": {},
   "source": [
    "## Глубокая нейронная сеть"
   ]
  },
  {
   "cell_type": "code",
   "execution_count": 26,
   "metadata": {},
   "outputs": [],
   "source": [
    "np.random.seed(1)"
   ]
  },
  {
   "cell_type": "code",
   "execution_count": 27,
   "metadata": {},
   "outputs": [],
   "source": [
    "def relu(x):\n",
    "    return (x > 0) * x # Возвращает х, если х > 0, иначе 0"
   ]
  },
  {
   "cell_type": "code",
   "execution_count": 28,
   "metadata": {},
   "outputs": [],
   "source": [
    "def relu2deriv(output):\n",
    "    return output > 0"
   ]
  },
  {
   "cell_type": "code",
   "execution_count": 29,
   "metadata": {},
   "outputs": [
    {
     "name": "stdout",
     "output_type": "stream",
     "text": [
      "[[-0.16595599  0.44064899 -0.99977125 -0.39533485]\n",
      " [-0.70648822 -0.81532281 -0.62747958 -0.30887855]\n",
      " [-0.20646505  0.07763347 -0.16161097  0.370439  ]]\n",
      "[[-0.5910955 ]\n",
      " [ 0.75623487]\n",
      " [-0.94522481]\n",
      " [ 0.34093502]]\n"
     ]
    }
   ],
   "source": [
    "alpha = 0.2\n",
    "hidden_size = 4\n",
    "\n",
    "streetlights = np.array([[1, 0, 1], \n",
    "                          [0, 1, 1],\n",
    "                          [0, 0, 1], \n",
    "                          [1, 1, 1]])\n",
    "\n",
    "walk_vs_stop = np.array([[1, 1, 0, 0]]).T  \n",
    "\n",
    "weights_0_1 = 2 * np.random.random((3, hidden_size)) - 1\n",
    "weights_1_2 = 2 * np.random.random((hidden_size, 1)) - 1\n",
    "print(weights_0_1)\n",
    "print(weights_1_2)"
   ]
  },
  {
   "cell_type": "code",
   "execution_count": 30,
   "metadata": {},
   "outputs": [
    {
     "name": "stdout",
     "output_type": "stream",
     "text": [
      "Error : 0.6342\n",
      "Error : 0.3584\n",
      "Error : 0.083\n",
      "Error : 0.0065\n",
      "Error : 0.0003\n",
      "Error : 0.0\n"
     ]
    }
   ],
   "source": [
    "for iteration in range(60):\n",
    "    \n",
    "    layer_2_error = 0\n",
    "    \n",
    "    for i in range(len(streetlights)):\n",
    "        layer_0 = streetlights[i : i+1]\n",
    "        layer_1 = relu(np.dot(layer_0, weights_0_1))\n",
    "        layer_2 = np.dot(layer_1, weights_1_2)\n",
    "        \n",
    "        layer_2_error += np.sum((layer_2 - walk_vs_stop[i : i+1]) ** 2)\n",
    "        layer_2_delta = walk_vs_stop[i : i+1] - layer_2\n",
    "        \n",
    "        layer_1_delta = layer_2_delta.dot(weights_1_2.T) * relu2deriv(layer_1)\n",
    "        # print(layer_2_delta.dot(weights_1_2.T))\n",
    "        # print(layer_1_delta)\n",
    "        # print('------------------')\n",
    "        weights_1_2 += alpha * layer_1.T.dot(layer_2_delta)\n",
    "        weights_0_1 += alpha * layer_0.T.dot(layer_1_delta)\n",
    "        \n",
    "    if (iteration % 10 == 9):\n",
    "        print('Error : ' + str(np.round(layer_2_error, 4)))"
   ]
  },
  {
   "cell_type": "markdown",
   "metadata": {},
   "source": [
    "## Одна итерация обратного распространения"
   ]
  },
  {
   "cell_type": "code",
   "execution_count": 31,
   "metadata": {},
   "outputs": [],
   "source": [
    "hidden_size = 3\n",
    "\n",
    "weights_0_1 = 2 * np.random.random((3, hidden_size)) - 1\n",
    "weights_1_2 = 2 * np.random.random((hidden_size, 1)) - 1"
   ]
  },
  {
   "cell_type": "code",
   "execution_count": 32,
   "metadata": {},
   "outputs": [],
   "source": [
    "layer_0 = streetlights[0 : 1]\n",
    "layer_1 = np.dot(layer_0, weights_0_1)\n",
    "layer_1 = relu(layer_1)\n",
    "layer_2 = np.dot(layer_1, weights_1_2)\n",
    "\n",
    "error = (layer_2 - walk_vs_stop[0 : 1]) ** 2\n",
    "layer_2_delta = layer_2 - walk_vs_stop[0 : 1]"
   ]
  },
  {
   "cell_type": "code",
   "execution_count": 33,
   "metadata": {},
   "outputs": [],
   "source": [
    "layer_1_delta = layer_2_delta.dot(weights_1_2.T)\n",
    "layer_1_delta *= relu2deriv(layer_1)"
   ]
  },
  {
   "cell_type": "code",
   "execution_count": 34,
   "metadata": {},
   "outputs": [],
   "source": [
    "weights_delta_1_2 = layer_1.T.dot(layer_2_delta)\n",
    "weights_delta_0_1 = layer_0.T.dot(layer_1_delta)"
   ]
  },
  {
   "cell_type": "code",
   "execution_count": 35,
   "metadata": {},
   "outputs": [],
   "source": [
    "weights_1_2 -= alpha * weights_delta_1_2\n",
    "weights_0_1 -= alpha * weights_delta_0_1"
   ]
  },
  {
   "cell_type": "markdown",
   "metadata": {},
   "source": [
    "-----"
   ]
  }
 ],
 "metadata": {
  "kernelspec": {
   "display_name": "Python 3",
   "language": "python",
   "name": "python3"
  },
  "language_info": {
   "codemirror_mode": {
    "name": "ipython",
    "version": 3
   },
   "file_extension": ".py",
   "mimetype": "text/x-python",
   "name": "python",
   "nbconvert_exporter": "python",
   "pygments_lexer": "ipython3",
   "version": "3.12.3"
  }
 },
 "nbformat": 4,
 "nbformat_minor": 2
}
