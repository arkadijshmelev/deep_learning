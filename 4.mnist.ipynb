{
 "cells": [
  {
   "cell_type": "markdown",
   "metadata": {},
   "source": [
    "## Библиотеки"
   ]
  },
  {
   "cell_type": "code",
   "execution_count": 1,
   "metadata": {},
   "outputs": [],
   "source": [
    "import numpy as np\n",
    "import sys\n",
    "from keras.datasets import mnist"
   ]
  },
  {
   "cell_type": "markdown",
   "metadata": {},
   "source": [
    "## Данные"
   ]
  },
  {
   "cell_type": "code",
   "execution_count": 2,
   "metadata": {},
   "outputs": [],
   "source": [
    "(x_train, y_train), (x_test, y_test) = mnist.load_data()"
   ]
  },
  {
   "cell_type": "code",
   "execution_count": 3,
   "metadata": {},
   "outputs": [
    {
     "name": "stdout",
     "output_type": "stream",
     "text": [
      "(60000, 28, 28)\n",
      "(10000, 28, 28)\n",
      "(60000,)\n",
      "(10000,)\n",
      "[5 0 4 1 9 2 1 3 1 4]\n",
      "[7 2 1 0 4 1 4 9 5 9]\n"
     ]
    }
   ],
   "source": [
    "print(x_train.shape)\n",
    "print(x_test.shape)\n",
    "print(y_train.shape)\n",
    "print(y_test.shape)\n",
    "print(y_train[:10])\n",
    "print(y_test[:10])"
   ]
  },
  {
   "cell_type": "code",
   "execution_count": 4,
   "metadata": {},
   "outputs": [],
   "source": [
    "# Возьмем 1000 наблюдений и вытянем картинки в вектор и отцентрируем и нормируем. \n",
    "images, labels = x_train[0:1000].reshape(1000, 28*28) / 255, y_train[0:1000]\n",
    "# Закодируем категориальный признак.\n",
    "one_hot_labels = np.zeros((len(labels), 10))\n",
    "for i, l in enumerate(labels):\n",
    "    one_hot_labels[i][l] = 1\n",
    "labels = one_hot_labels\n",
    "test_images = x_test.reshape(len(x_test), 28*28) / 255\n",
    "test_labels = np.zeros((len(y_test), 10))\n",
    "for i, l in enumerate(y_test):\n",
    "    test_labels[i][l] = 1"
   ]
  },
  {
   "cell_type": "code",
   "execution_count": 5,
   "metadata": {},
   "outputs": [],
   "source": [
    "relu = lambda x: (x >= 0) * x\n",
    "relu2deriv = lambda x: x >= 0"
   ]
  },
  {
   "cell_type": "code",
   "execution_count": 6,
   "metadata": {},
   "outputs": [],
   "source": [
    "# Зададим параметры.\n",
    "alpha = 0.005\n",
    "iterations = 350\n",
    "hidden_size = 40\n",
    "pixels_per_image = 784\n",
    "num_labels = 10"
   ]
  },
  {
   "cell_type": "code",
   "execution_count": 7,
   "metadata": {},
   "outputs": [],
   "source": [
    "# Создадим веса.\n",
    "np.random.seed(1)\n",
    "weights_0_1 = 0.2 * np.random.random((pixels_per_image, hidden_size)) - 0.1\n",
    "weights_1_2 = 0.2 * np.random.random((hidden_size, num_labels)) - 0.1"
   ]
  },
  {
   "cell_type": "markdown",
   "metadata": {},
   "source": [
    "## Нейронная сеть"
   ]
  },
  {
   "cell_type": "code",
   "execution_count": null,
   "metadata": {},
   "outputs": [],
   "source": [
    "for iter in range(iterations):\n",
    "    total_error = 0\n",
    "    correct_cnt = 0\n",
    "    for i in range(len(images)):\n",
    "        layer_0 = images[i : i+1]\n",
    "        layer_1 = relu(layer_0.dot(weights_0_1))\n",
    "        layer_2 = layer_1.dot(weights_1_2)\n",
    "        \n",
    "        error = np.sum((layer_2 - labels[i : i+1]) ** 2)\n",
    "        total_error += error\n",
    "        correct_cnt += int(np.argmax(layer_2) == np.argmax(labels[i : i+1]))\n",
    "        \n",
    "        layer_2_delta = layer_2 - labels[i : i+1]\n",
    "        layer_1_delta = layer_2_delta.dot(weights_1_2.T) * relu2deriv(layer_1)\n",
    "        \n",
    "        weights_delta_1_2 = layer_1.T.dot(layer_2_delta)\n",
    "        weights_delta_0_1 = layer_0.T.dot(layer_1_delta)\n",
    "        \n",
    "        weights_0_1 -= alpha * weights_delta_0_1\n",
    "        weights_1_2 -= alpha * weights_delta_1_2\n",
    "        \n",
    "    sys.stdout.write('\\r' + 'Iter : ' + str(iter+1) + ' Test error : ' + str(total_error/float(len(images)))[0:5] \\\n",
    "        + ' Correct : ' + str(correct_cnt/float(len(images))))\n",
    "    "
   ]
  },
  {
   "cell_type": "code",
   "execution_count": 9,
   "metadata": {},
   "outputs": [
    {
     "name": "stdout",
     "output_type": "stream",
     "text": [
      "Test error : 0.653 Correct : 0.7073\n"
     ]
    }
   ],
   "source": [
    "error = 0.0\n",
    "correct_cnt = 0\n",
    "for i in range(len(test_labels)):\n",
    "    layer_0 = test_images[i : i+1]\n",
    "    layer_1 = relu(layer_0.dot(weights_0_1))\n",
    "    layer_2 = layer_1.dot(weights_1_2)\n",
    "    \n",
    "    error += np.sum((layer_2 - test_labels[i : i+1]) ** 2)\n",
    "    correct_cnt += int(np.argmax(layer_2) == np.argmax(test_labels[i : i+1]))\n",
    "    \n",
    "sys.stdout.write('Test error : ' + str(error/float(len(test_images)))[0:5] + ' Correct : ' + str(correct_cnt/float(len(test_images))))\n",
    "print()"
   ]
  },
  {
   "cell_type": "markdown",
   "metadata": {},
   "source": [
    "## Прореживание (dropout)"
   ]
  },
  {
   "cell_type": "code",
   "execution_count": 10,
   "metadata": {},
   "outputs": [],
   "source": [
    "# Зададим параметры.\n",
    "alpha = 0.005\n",
    "iterations = 300\n",
    "hidden_size = 100\n",
    "pixels_per_image = 784\n",
    "num_labels = 10"
   ]
  },
  {
   "cell_type": "code",
   "execution_count": 11,
   "metadata": {},
   "outputs": [],
   "source": [
    "# Создадим веса.\n",
    "np.random.seed(1)\n",
    "weights_0_1 = 0.2 * np.random.random((pixels_per_image, hidden_size)) - 0.1\n",
    "weights_1_2 = 0.2 * np.random.random((hidden_size, num_labels)) - 0.1"
   ]
  },
  {
   "cell_type": "code",
   "execution_count": 12,
   "metadata": {},
   "outputs": [
    {
     "name": "stdout",
     "output_type": "stream",
     "text": [
      "Iter : 300 Test error : 0.301 Correct : 0.916"
     ]
    }
   ],
   "source": [
    "for iter in range(iterations):\n",
    "    total_error = 0\n",
    "    correct_cnt = 0\n",
    "    for i in range(len(images)):\n",
    "        layer_0 = images[i : i+1]\n",
    "        layer_1 = relu(layer_0.dot(weights_0_1))\n",
    "        dropout_mask = np.random.randint(2, size=layer_1.shape)\n",
    "        layer_1 *= 2 * dropout_mask\n",
    "        layer_2 = layer_1.dot(weights_1_2)\n",
    "        \n",
    "        error = np.sum((layer_2 - labels[i : i+1]) ** 2)\n",
    "        total_error += error\n",
    "        correct_cnt += int(np.argmax(layer_2) == np.argmax(labels[i : i+1]))\n",
    "        \n",
    "        layer_2_delta = layer_2 - labels[i : i+1]\n",
    "        layer_1_delta = layer_2_delta.dot(weights_1_2.T) * relu2deriv(layer_1)\n",
    "        layer_1_delta *= dropout_mask\n",
    "        \n",
    "        weights_delta_1_2 = layer_1.T.dot(layer_2_delta)\n",
    "        weights_delta_0_1 = layer_0.T.dot(layer_1_delta)\n",
    "        \n",
    "        weights_0_1 -= alpha * weights_delta_0_1\n",
    "        weights_1_2 -= alpha * weights_delta_1_2\n",
    "        \n",
    "    sys.stdout.write('\\r' + 'Iter : ' + str(iter+1) + ' Test error : ' + str(total_error/float(len(images)))[0:5] \\\n",
    "        + ' Correct : ' + str(correct_cnt/float(len(images))))"
   ]
  },
  {
   "cell_type": "code",
   "execution_count": 13,
   "metadata": {},
   "outputs": [
    {
     "name": "stdout",
     "output_type": "stream",
     "text": [
      "Test error : 0.393 Correct : 0.8229\n"
     ]
    }
   ],
   "source": [
    "error = 0.0\n",
    "correct_cnt = 0\n",
    "for i in range(len(test_labels)):\n",
    "    layer_0 = test_images[i : i+1]\n",
    "    layer_1 = relu(layer_0.dot(weights_0_1))\n",
    "    layer_2 = layer_1.dot(weights_1_2)\n",
    "    \n",
    "    error += np.sum((layer_2 - test_labels[i : i+1]) ** 2)\n",
    "    correct_cnt += int(np.argmax(layer_2) == np.argmax(test_labels[i : i+1]))\n",
    "    \n",
    "sys.stdout.write('Test error : ' + str(error/float(len(test_images)))[0:5] + ' Correct : ' + str(correct_cnt/float(len(test_images))))\n",
    "print()"
   ]
  },
  {
   "cell_type": "markdown",
   "metadata": {},
   "source": [
    "## Пакетный градиентный спуск"
   ]
  },
  {
   "cell_type": "code",
   "execution_count": 9,
   "metadata": {},
   "outputs": [],
   "source": [
    "batch_size = 100\n",
    "alpha = 0.001\n",
    "iterations = 300\n",
    "pixels_per_image = 784\n",
    "num_labels = 10\n",
    "hidden_size = 100"
   ]
  },
  {
   "cell_type": "code",
   "execution_count": 10,
   "metadata": {},
   "outputs": [],
   "source": [
    "np.random.seed(1)\n",
    "weights_0_1 = 0.2 * np.random.random((pixels_per_image, hidden_size)) - 0.1\n",
    "weights_1_2 = 0.2 * np.random.random((hidden_size, num_labels)) - 0.1"
   ]
  },
  {
   "cell_type": "code",
   "execution_count": null,
   "metadata": {},
   "outputs": [],
   "source": [
    "for iter in range(iterations):\n",
    "    error = 0.0\n",
    "    correct_cnt = 0\n",
    "    for i in range(int(len(images) / batch_size)):\n",
    "        batch_start, batch_end = (i* batch_size, (i+1) * batch_size)\n",
    "        \n",
    "        layer_0 = images[batch_start : batch_end]\n",
    "        layer_1 = relu(layer_0.dot(weights_0_1))\n",
    "        dropout_mask = np.random.randint(2, size=layer_1.shape)\n",
    "        layer_1 *= dropout_mask * 2\n",
    "        layer_2 = layer_1.dot(weights_1_2)\n",
    "        \n",
    "        error += np.sum((layer_2 - labels[batch_start : batch_end]) ** 2)\n",
    "        for k in range(batch_size):\n",
    "            correct_cnt += int(np.argmax(layer_2[k : k+1]) == np.argmax(labels[batch_start+k : batch_start+k+1]))\n",
    "            \n",
    "        layer_2_delta = (layer_2 - labels[batch_start : batch_end]) / batch_size\n",
    "        layer_1_delta = layer_2_delta.dot(weights_1_2.T) * relu2deriv(layer_1)\n",
    "        layer_1_delta *= dropout_mask\n",
    "        \n",
    "        weights_delta_1_2 = layer_1.T.dot(layer_2_delta)\n",
    "        weights_delta_0_1 = layer_0.T.dot(layer_1_delta)\n",
    "        \n",
    "        weights_1_2 -= alpha * weights_delta_1_2\n",
    "        weights_0_1 -= alpha * weights_delta_0_1\n",
    "        \n",
    "    sys.stdout.write('\\r' + 'Iter : ' + str(iter+1) + ' Test error : ' + str(error/float(len(images)))[0:5] \\\n",
    "                        + ' Correct : ' + str(correct_cnt/float(len(images))))\n",
    "        "
   ]
  },
  {
   "cell_type": "code",
   "execution_count": 28,
   "metadata": {},
   "outputs": [
    {
     "name": "stdout",
     "output_type": "stream",
     "text": [
      "Test error : 0.428 Correct : 0.7992\n"
     ]
    }
   ],
   "source": [
    "error = 0.0\n",
    "correct_cnt = 0\n",
    "for i in range(len(test_labels)):\n",
    "    layer_0 = test_images[i : i+1]\n",
    "    layer_1 = relu(layer_0.dot(weights_0_1))\n",
    "    layer_2 = layer_1.dot(weights_1_2)\n",
    "    \n",
    "    error += np.sum((layer_2 - test_labels[i : i+1]) ** 2)\n",
    "    correct_cnt += int(np.argmax(layer_2) == np.argmax(test_labels[i : i+1]))\n",
    "    \n",
    "sys.stdout.write('Test error : ' + str(error/float(len(test_images)))[0:5] + ' Correct : ' + str(correct_cnt/float(len(test_images))))\n",
    "print()"
   ]
  },
  {
   "cell_type": "markdown",
   "metadata": {},
   "source": [
    "-----"
   ]
  }
 ],
 "metadata": {
  "kernelspec": {
   "display_name": "Python 3",
   "language": "python",
   "name": "python3"
  },
  "language_info": {
   "codemirror_mode": {
    "name": "ipython",
    "version": 3
   },
   "file_extension": ".py",
   "mimetype": "text/x-python",
   "name": "python",
   "nbconvert_exporter": "python",
   "pygments_lexer": "ipython3",
   "version": "3.12.3"
  }
 },
 "nbformat": 4,
 "nbformat_minor": 2
}
